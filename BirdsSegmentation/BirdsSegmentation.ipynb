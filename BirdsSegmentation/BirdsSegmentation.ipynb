{
  "nbformat": 4,
  "nbformat_minor": 0,
  "metadata": {
    "colab": {
      "name": "BirdsSegmentation",
      "provenance": [],
      "collapsed_sections": [],
      "machine_shape": "hm"
    },
    "kernelspec": {
      "name": "python3",
      "display_name": "Python 3"
    },
    "accelerator": "GPU"
  },
  "cells": [
    {
      "cell_type": "code",
      "metadata": {
        "id": "Nl-HDIwEoDhz",
        "colab": {
          "base_uri": "https://localhost:8080/"
        },
        "outputId": "f18430a4-2760-473e-e5d8-93b5e0b9c734"
      },
      "source": [
        "from google.colab import drive\n",
        "drive.mount('/content/drive')"
      ],
      "execution_count": null,
      "outputs": [
        {
          "output_type": "stream",
          "text": [
            "Mounted at /content/drive\n"
          ],
          "name": "stdout"
        }
      ]
    },
    {
      "cell_type": "code",
      "metadata": {
        "id": "chKy7HMl3RnU",
        "colab": {
          "base_uri": "https://localhost:8080/"
        },
        "outputId": "a95de9ca-70f4-4ea2-a5e8-684cdeb325c5"
      },
      "source": [
        "%cd drive/My\\ Drive/3\\ cource/CV/Birds\\ Segmentation"
      ],
      "execution_count": null,
      "outputs": [
        {
          "output_type": "stream",
          "text": [
            "/content/drive/.shortcut-targets-by-id/15p8MIxLnex3jZ4mZzZnJBcXEq_gbTBvF/3 cource/CV/Birds Segmentation\n"
          ],
          "name": "stdout"
        }
      ]
    },
    {
      "cell_type": "code",
      "metadata": {
        "id": "9mstzzivjGKK"
      },
      "source": [
        "\"\"\"AdamP for TensorFlow.\"\"\"\n",
        "from __future__ import absolute_import\n",
        "from __future__ import division\n",
        "from __future__ import print_function\n",
        "\n",
        "from tensorflow.python.framework import ops\n",
        "from tensorflow.python.keras import backend_config\n",
        "from tensorflow.python.keras.optimizer_v2 import optimizer_v2\n",
        "from tensorflow.python.ops import array_ops\n",
        "from tensorflow.python.ops import control_flow_ops\n",
        "from tensorflow.python.ops import math_ops\n",
        "from tensorflow.python.ops import state_ops\n",
        "\n",
        "\n",
        "class AdamP(optimizer_v2.OptimizerV2):\n",
        "    _HAS_AGGREGATE_GRAD = True\n",
        "\n",
        "    def __init__(self,\n",
        "                 learning_rate=0.001,\n",
        "                 beta_1=0.9,\n",
        "                 beta_2=0.999,\n",
        "                 epsilon=1e-8,\n",
        "                 weight_decay=0.0,\n",
        "                 delta=0.1, wd_ratio=0.1, nesterov=False,\n",
        "                 name='AdamP',\n",
        "                 **kwargs):\n",
        "\n",
        "        super(AdamP, self).__init__(name, **kwargs)\n",
        "        self._set_hyper('learning_rate', kwargs.get('lr', learning_rate))\n",
        "        self._set_hyper('beta_1', beta_1)\n",
        "        self._set_hyper('beta_2', beta_2)\n",
        "        self._set_hyper('delta', delta)\n",
        "        self._set_hyper('wd_ratio', wd_ratio)\n",
        "\n",
        "        self.epsilon = epsilon or backend_config.epsilon()\n",
        "        self.weight_decay = weight_decay\n",
        "        self.nesterov = nesterov\n",
        "\n",
        "    def _create_slots(self, var_list):\n",
        "        # Create slots for the first and second moments.\n",
        "        # Separate for-loops to respect the ordering of slot variables from v1.\n",
        "        for var in var_list:\n",
        "            self.add_slot(var, 'm')\n",
        "        for var in var_list:\n",
        "            self.add_slot(var, 'v')\n",
        "        for var in var_list:\n",
        "            self.add_slot(var, 'p')\n",
        "\n",
        "    def _prepare_local(self, var_device, var_dtype, apply_state):\n",
        "        super(AdamP, self)._prepare_local(var_device, var_dtype, apply_state)\n",
        "\n",
        "        local_step = math_ops.cast(self.iterations + 1, var_dtype)\n",
        "        beta_1_t = array_ops.identity(self._get_hyper('beta_1', var_dtype))\n",
        "        beta_2_t = array_ops.identity(self._get_hyper('beta_2', var_dtype))\n",
        "        beta_1_power = math_ops.pow(beta_1_t, local_step)\n",
        "        beta_2_power = math_ops.pow(beta_2_t, local_step)\n",
        "\n",
        "        lr = apply_state[(var_device, var_dtype)]['lr_t']\n",
        "        bias_correction1 = 1 - beta_1_power\n",
        "        bias_correction2 = 1 - beta_2_power\n",
        "\n",
        "        delta = array_ops.identity(self._get_hyper('delta', var_dtype))\n",
        "        wd_ratio = array_ops.identity(self._get_hyper('wd_ratio', var_dtype))\n",
        "\n",
        "        apply_state[(var_device, var_dtype)].update(\n",
        "            dict(\n",
        "                lr=lr,\n",
        "                epsilon=ops.convert_to_tensor_v2(self.epsilon, var_dtype),\n",
        "                weight_decay=ops.convert_to_tensor_v2(self.weight_decay, var_dtype),\n",
        "                beta_1_t=beta_1_t,\n",
        "                beta_1_power=beta_1_power,\n",
        "                one_minus_beta_1_t=1 - beta_1_t,\n",
        "                beta_2_t=beta_2_t,\n",
        "                beta_2_power=beta_2_power,\n",
        "                one_minus_beta_2_t=1 - beta_2_t,\n",
        "                bias_correction1=bias_correction1,\n",
        "                bias_correction2=bias_correction2,\n",
        "                delta=delta,\n",
        "                wd_ratio=wd_ratio))\n",
        "\n",
        "    def set_weights(self, weights):\n",
        "        params = self.weights\n",
        "        # If the weights are generated by Keras V1 optimizer, it includes vhats\n",
        "        # optimizer has 2x + 1 variables. Filter vhats out for compatibility.\n",
        "        num_vars = int((len(params) - 1) / 2)\n",
        "        if len(weights) == 3 * num_vars + 1:\n",
        "            weights = weights[:len(params)]\n",
        "        super(AdamP, self).set_weights(weights)\n",
        "\n",
        "    def _resource_apply_dense(self, grad, var, apply_state=None):\n",
        "        var_device, var_dtype = var.device, var.dtype.base_dtype\n",
        "        coefficients = ((apply_state or {}).get((var_device, var_dtype))\n",
        "                        or self._fallback_apply_state(var_device, var_dtype))\n",
        "\n",
        "        # m_t = beta1 * m + (1 - beta1) * g_t\n",
        "        m = self.get_slot(var, 'm')\n",
        "        m_scaled_g_values = grad * coefficients['one_minus_beta_1_t']\n",
        "        m_t = state_ops.assign(m, m * coefficients['beta_1_t'] + m_scaled_g_values, use_locking=self._use_locking)\n",
        "\n",
        "        # v_t = beta2 * v + (1 - beta2) * (g_t * g_t)\n",
        "        v = self.get_slot(var, 'v')\n",
        "        v_scaled_g_values = (grad * grad) * coefficients['one_minus_beta_2_t']\n",
        "        v_t = state_ops.assign(v, v * coefficients['beta_2_t'] + v_scaled_g_values, use_locking=self._use_locking)\n",
        "\n",
        "        denorm = (math_ops.sqrt(v_t) / math_ops.sqrt(coefficients['bias_correction2'])) + coefficients['epsilon']\n",
        "        step_size = coefficients['lr'] / coefficients['bias_correction1']\n",
        "\n",
        "        if self.nesterov:\n",
        "            perturb = (coefficients['beta_1_t'] * m_t + coefficients['one_minus_beta_1_t'] * grad) / denorm\n",
        "        else:\n",
        "            perturb = m_t / denorm\n",
        "\n",
        "        # Projection\n",
        "        wd_ratio = 1\n",
        "        if len(var.shape) > 1:\n",
        "            perturb, wd_ratio = self._projection(var, grad, perturb, coefficients['delta'], coefficients['wd_ratio'], coefficients['epsilon'])\n",
        "\n",
        "        # Weight decay\n",
        "\n",
        "        if self.weight_decay > 0:\n",
        "            var = state_ops.assign(var, var * (1 - coefficients['lr'] * coefficients['weight_decay'] * wd_ratio), use_locking=self._use_locking)\n",
        "\n",
        "        var_update = state_ops.assign_sub(var, step_size * perturb, use_locking=self._use_locking)\n",
        "\n",
        "        return control_flow_ops.group(*[var_update, m_t, v_t])\n",
        "\n",
        "\n",
        "    def _resource_apply_sparse(self, grad, var, indices, apply_state=None):\n",
        "\n",
        "        var_device, var_dtype = var.device, var.dtype.base_dtype\n",
        "        coefficients = ((apply_state or {}).get((var_device, var_dtype))\n",
        "                        or self._fallback_apply_state(var_device, var_dtype))\n",
        "        \"\"\"\n",
        "        Adam\n",
        "        \"\"\"\n",
        "        # m_t = beta1 * m + (1 - beta1) * g_t\n",
        "        m = self.get_slot(var, 'm')\n",
        "        m_scaled_g_values = grad * coefficients['one_minus_beta_1_t']\n",
        "        m_t = state_ops.assign(m, m * coefficients['beta_1_t'],\n",
        "                               use_locking=self._use_locking)\n",
        "        with ops.control_dependencies([m_t]):\n",
        "            m_t = self._resource_scatter_add(m, indices, m_scaled_g_values)\n",
        "\n",
        "        # v_t = beta2 * v + (1 - beta2) * (g_t * g_t)\n",
        "        v = self.get_slot(var, 'v')\n",
        "        v_scaled_g_values = (grad * grad) * coefficients['one_minus_beta_2_t']\n",
        "        v_t = state_ops.assign(v, v * coefficients['beta_2_t'],\n",
        "                               use_locking=self._use_locking)\n",
        "        with ops.control_dependencies([v_t]):\n",
        "            v_t = self._resource_scatter_add(v, indices, v_scaled_g_values)\n",
        "\n",
        "        denorm = (math_ops.sqrt(v_t) / math_ops.sqrt(coefficients['bias_correction2'])) + coefficients['epsilon']\n",
        "        step_size = coefficients['lr'] / coefficients['bias_correction1']\n",
        "\n",
        "        if self.nesterov:\n",
        "            p_scaled_g_values = grad * coefficients['one_minus_beta_1_t']\n",
        "            perturb = m_t * coefficients['beta_1_t']\n",
        "            perturb = self._resource_scatter_add(perturb, indices, p_scaled_g_values) / denorm\n",
        "\n",
        "        else:\n",
        "            perturb = m_t / denorm\n",
        "\n",
        "        # Projection\n",
        "        wd_ratio = 1\n",
        "        if len(var.shape) > 1:\n",
        "            perturb, wd_ratio = self._projection(var, grad, perturb, coefficients['delta'], coefficients['wd_ratio'], coefficients['epsilon'])\n",
        "\n",
        "        # Weight decay\n",
        "        if self.weight_decay > 0:\n",
        "            var = state_ops.assign(var, var * (1 - coefficients['lr'] * coefficients['weight_decay'] * wd_ratio), use_locking=self._use_locking)\n",
        "\n",
        "        var_update = state_ops.assign_sub(var, step_size * perturb, use_locking=self._use_locking)\n",
        "\n",
        "        return control_flow_ops.group(*[var_update, m_t, v_t])\n",
        "\n",
        "    def _channel_view(self, x):\n",
        "        return array_ops.reshape(x, shape=[x.shape[0], -1])\n",
        "\n",
        "    def _layer_view(self, x):\n",
        "        return array_ops.reshape(x, shape=[1, -1])\n",
        "\n",
        "    def _cosine_similarity(self, x, y, eps, view_func):\n",
        "        x = view_func(x)\n",
        "        y = view_func(y)\n",
        "\n",
        "        x_norm = math_ops.euclidean_norm(x, axis=-1) + eps\n",
        "        y_norm = math_ops.euclidean_norm(y, axis=-1) + eps\n",
        "        dot = math_ops.reduce_sum(x * y, axis=-1)\n",
        "\n",
        "        return math_ops.abs(dot) / x_norm / y_norm\n",
        "\n",
        "    def _projection(self, var, grad, perturb, delta, wd_ratio, eps):\n",
        "        # channel_view\n",
        "        cosine_sim = self._cosine_similarity(grad, var, eps, self._channel_view)\n",
        "        cosine_max = math_ops.reduce_max(cosine_sim)\n",
        "        compare_val = delta / math_ops.sqrt(math_ops.cast(self._channel_view(var).shape[-1], dtype=delta.dtype))\n",
        "\n",
        "        perturb, wd = control_flow_ops.cond(pred=cosine_max < compare_val,\n",
        "                                            true_fn=lambda : self.channel_true_fn(var, perturb, wd_ratio, eps),\n",
        "                                            false_fn=lambda : self.channel_false_fn(var, grad, perturb, delta, wd_ratio, eps))\n",
        "\n",
        "        return perturb, wd\n",
        "\n",
        "    def channel_true_fn(self, var, perturb, wd_ratio, eps):\n",
        "        expand_size = [-1] + [1] * (len(var.shape) - 1)\n",
        "        var_n = var / (array_ops.reshape(math_ops.euclidean_norm(self._channel_view(var), axis=-1), shape=expand_size) + eps)\n",
        "        perturb -= var_n * array_ops.reshape(math_ops.reduce_sum(self._channel_view(var_n * perturb), axis=-1), shape=expand_size)\n",
        "        wd = wd_ratio\n",
        "\n",
        "        return perturb, wd\n",
        "\n",
        "    def channel_false_fn(self, var, grad, perturb, delta, wd_ratio, eps):\n",
        "        cosine_sim = self._cosine_similarity(grad, var, eps, self._layer_view)\n",
        "        cosine_max = math_ops.reduce_max(cosine_sim)\n",
        "        compare_val = delta / math_ops.sqrt(math_ops.cast(self._layer_view(var).shape[-1], dtype=delta.dtype))\n",
        "\n",
        "        perturb, wd = control_flow_ops.cond(cosine_max < compare_val,\n",
        "                                              true_fn=lambda : self.layer_true_fn(var, perturb, wd_ratio, eps),\n",
        "                                              false_fn=lambda : self.identity_fn(perturb))\n",
        "\n",
        "        return perturb, wd\n",
        "\n",
        "    def layer_true_fn(self, var, perturb, wd_ratio, eps):\n",
        "        expand_size = [-1] + [1] * (len(var.shape) - 1)\n",
        "        var_n = var / (array_ops.reshape(math_ops.euclidean_norm(self._layer_view(var), axis=-1), shape=expand_size) + eps)\n",
        "        perturb -= var_n * array_ops.reshape(math_ops.reduce_sum(self._layer_view(var_n * perturb), axis=-1), shape=expand_size)\n",
        "        wd = wd_ratio\n",
        "\n",
        "        return perturb, wd\n",
        "\n",
        "    def identity_fn(self, perturb):\n",
        "        wd = 1.0\n",
        "\n",
        "        return perturb, wd\n",
        "\n",
        "    def get_config(self):\n",
        "        config = super(AdamP, self).get_config()\n",
        "        config.update({\n",
        "            'learning_rate': self._serialize_hyperparameter('learning_rate'),\n",
        "            'beta_1': self._serialize_hyperparameter('beta_1'),\n",
        "            'beta_2': self._serialize_hyperparameter('beta_2'),\n",
        "            'delta': self._serialize_hyperparameter('delta'),\n",
        "            'wd_ratio': self._serialize_hyperparameter('wd_ratio'),\n",
        "            'epsilon': self.epsilon,\n",
        "            'weight_decay': self.weight_decay,\n",
        "            'nesterov': self.nesterov\n",
        "        })\n",
        "        return config"
      ],
      "execution_count": null,
      "outputs": []
    },
    {
      "cell_type": "code",
      "metadata": {
        "id": "NA02sKIs9DuD"
      },
      "source": [
        "def focal_loss(y, y_pred, gamma=2., alpha=0.25):\n",
        "    from tensorflow.keras.backend import epsilon, clip, mean, sum, log, pow\n",
        "    y_pred = clip(y_pred, epsilon(), 1)\n",
        "    return mean(sum(alpha * (-y * log(y_pred) * pow(1.0 - y_pred, gamma)), axis=-1))\n",
        "\n",
        "\n",
        "def focal_loss(gamma=2., alpha=0.25):\n",
        "    def focal_loss_fixed(y_gt, y_pred):\n",
        "        epsilon = K.epsilon()\n",
        "        y_pred = K.clip(y_pred, epsilon, 1)\n",
        "        cross_entropy = -y_gt * K.log(y_pred)\n",
        "        loss = alpha * K.pow(1. - y_pred, gamma) * cross_entropy\n",
        "        return K.mean(K.sum(loss, axis=-1))\n",
        "    return focal_loss_fixed"
      ],
      "execution_count": null,
      "outputs": []
    },
    {
      "cell_type": "code",
      "metadata": {
        "id": "G-NQiGjQTick"
      },
      "source": [
        "from tensorflow.keras.models import Model\n",
        "from tensorflow.keras.layers import Conv2D, Input, Dropout, MaxPooling2D, UpSampling2D, Activation, concatenate\n",
        "from skimage import img_as_ubyte\n",
        "from skimage.io import imread, imsave\n",
        "from skimage.transform import resize\n",
        "from os.path import join\n",
        "import numpy as np\n",
        "import os\n",
        "from tqdm import tqdm\n",
        "from tensorflow.keras.applications.efficientnet import EfficientNetB4\n",
        "from tensorflow.keras.applications.mobilenet_v2 import MobileNetV2\n",
        "from tensorflow.keras.applications.densenet import DenseNet201\n",
        "\n",
        "from tensorflow.keras.layers import GlobalAveragePooling2D, BatchNormalization, Dense, Activation, Dropout, Flatten, AveragePooling2D, ZeroPadding2D, Add, Conv2DTranspose\n",
        "from tensorflow.keras.models import Model, load_model\n",
        "from tensorflow.keras.applications.xception import Xception\n",
        "from tensorflow.data import Dataset\n",
        "\n",
        "from sklearn.model_selection import train_test_split\n",
        "from PIL import Image\n",
        "from tqdm import tqdm\n",
        "import matplotlib.pyplot as plt\n",
        "import albumentations as A\n",
        "import tensorflow as tf\n",
        "from tensorflow import keras\n",
        "\n",
        "import random\n",
        "import pandas as pd\n",
        "import os\n",
        "import numpy as np\n",
        "import cv2\n",
        "\n",
        "from skimage.io import imread\n",
        "from skimage.transform import resize, rotate\n",
        "from tensorflow.keras.applications.efficientnet import preprocess_input"
      ],
      "execution_count": null,
      "outputs": []
    },
    {
      "cell_type": "code",
      "metadata": {
        "id": "qDK1poPR58TK"
      },
      "source": [
        "IMAGESIZE = 288"
      ],
      "execution_count": null,
      "outputs": []
    },
    {
      "cell_type": "code",
      "metadata": {
        "id": "KPZG3T409fbE",
        "colab": {
          "base_uri": "https://localhost:8080/"
        },
        "outputId": "bb481706-e3ad-47e1-a67c-0013d247ad64"
      },
      "source": [
        "def BuildModel(input_height=IMAGESIZE, input_width=IMAGESIZE):\n",
        "    def Link(name):\n",
        "        conv = base_model.get_layer(name=name).output\n",
        "        conv = Conv2D(64, (3, 3), activation='relu', padding='same', kernel_initializer='he_normal')(conv)\n",
        "        conv = BatchNormalization(momentum=0.9)(conv)\n",
        "        return conv\n",
        "\n",
        "    def Link1(name):\n",
        "        return base_model.get_layer(name=name).output\n",
        "\n",
        "    base_model = EfficientNetB4(weights='imagenet', include_top=False, input_shape=(input_height, input_width, 3))\n",
        "\n",
        "    last_trainable = 31\n",
        "    for layer in base_model.layers[0:-last_trainable]:\n",
        "        layer.trainable = False\n",
        "    for layer in base_model.layers[-last_trainable:]:\n",
        "        layer.trainable = True\n",
        "\n",
        "    x = base_model.output    \n",
        "    x = Conv2D(256, (3, 3), activation='relu', padding='same', kernel_initializer='he_normal')(x)\n",
        "    x = BatchNormalization(momentum=0.9)(x)\n",
        "    x = Conv2D(256, (3, 3), activation='relu', padding='same', kernel_initializer='he_normal')(x)\n",
        "    x = BatchNormalization(momentum=0.9)(x)\n",
        "\n",
        "    up1 = concatenate([x, \n",
        "                       Link('block6h_add')], axis=-1)\n",
        "    x = Conv2D(128, (3, 3), activation='relu', padding='same', kernel_initializer='he_normal')(up1)\n",
        "    x = BatchNormalization(momentum=0.9)(x)\n",
        "    x = Conv2DTranspose(128, 3, padding='same', kernel_initializer='he_normal')(x)\n",
        "    x = BatchNormalization(momentum=0.9)(x)\n",
        "    \n",
        "    up2 = concatenate([UpSampling2D((2, 2))(x),\n",
        "                       Link('block5f_add')], axis=-1)\n",
        "    x = Conv2D(128, (3, 3), activation='relu', padding='same', kernel_initializer='he_normal')(up2)\n",
        "    x = BatchNormalization(momentum=0.9)(x)\n",
        "    x = Conv2DTranspose(128, 3, padding='same', kernel_initializer='he_normal')(x)\n",
        "    x = BatchNormalization(momentum=0.9)(x)\n",
        "    \n",
        "     \n",
        "    up3 = concatenate([UpSampling2D((2, 2))(x), \n",
        "                     Link('block3d_add')], axis=-1)\n",
        "    x = Conv2D(128, (3, 3), activation='relu', padding='same', kernel_initializer='he_normal')(up3)\n",
        "    x = BatchNormalization(momentum=0.9)(x)\n",
        "    x = Conv2DTranspose(128, 3, padding='same', kernel_initializer='he_normal')(x)\n",
        "    x = BatchNormalization(momentum=0.9)(x)\n",
        "\n",
        "    x = UpSampling2D((2, 2))(x)\n",
        "    up4 = concatenate([x, Link('block2d_add')], axis=-1)\n",
        "    x = Conv2D(128, (3, 3), activation='relu', padding='same', kernel_initializer='he_normal')(x)\n",
        "    x = BatchNormalization(momentum=0.9)(x)\n",
        "    x = Conv2DTranspose(64, 3, padding='same', kernel_initializer='he_normal')(x)\n",
        "    x = BatchNormalization(momentum=0.9)(x)\n",
        "    \n",
        "    x = UpSampling2D((2, 2))(x)\n",
        "    x = Conv2DTranspose(64, 3, padding='same', kernel_initializer='he_normal')(x)\n",
        "    x = BatchNormalization(momentum=0.9)(x)\n",
        "\n",
        "    x = UpSampling2D((2, 2))(x)\n",
        "    x = Conv2DTranspose(2, 3, padding='same', kernel_initializer='he_normal')(x)\n",
        "    x = BatchNormalization(momentum=0.9)(x)\n",
        "    output = tf.keras.activations.softmax(x, axis=-1)\n",
        "    \n",
        "    model = Model(base_model.input, output)\n",
        "    return model\n",
        "\n",
        "model = BuildModel() "
      ],
      "execution_count": null,
      "outputs": [
        {
          "output_type": "stream",
          "text": [
            "Downloading data from https://storage.googleapis.com/keras-applications/efficientnetb4_notop.h5\n",
            "71688192/71686520 [==============================] - 3s 0us/step\n"
          ],
          "name": "stdout"
        }
      ]
    },
    {
      "cell_type": "code",
      "metadata": {
        "id": "h1fkM8ZVZYSv"
      },
      "source": [
        "from tensorflow.keras import backend as K\n",
        "from tensorflow.keras.layers import ReLU, Concatenate, Softmax\n",
        "K.clear_session()\n",
        "W_INIT='he_normal'\n",
        "\n",
        "def conv_bn(x, f, k, padding='same'):\n",
        "    x = Conv2D(f, k, padding=padding, kernel_initializer=W_INIT)(x)\n",
        "    x = BatchNormalization(axis=3)(x)\n",
        "    x = ReLU()(x)\n",
        "    return x\n",
        "\n",
        "def up_conv_bn(x, f, k, padding='same'):\n",
        "    x = UpSampling2D()(x)\n",
        "    x = Conv2DTranspose(f, k, padding=padding, kernel_initializer=W_INIT)(x)\n",
        "    x = BatchNormalization(axis=3)(x)\n",
        "    x = ReLU()(x)\n",
        "    return x\n",
        "\n",
        "def conv_block(input_tensor, kernel_size, filters, strides=(2, 2)):\n",
        "    f1, f2, f3 = filters\n",
        "    x = conv_bn(input_tensor, f1, (1, 1))\n",
        "    x = conv_bn(x, f2, (kernel_size, kernel_size), 'same')\n",
        "    x = Conv2D(f3, (1, 1), kernel_initializer=W_INIT, strides=strides)(x)\n",
        "    x = BatchNormalization()(x)\n",
        "    shortcut = Conv2D(f3, (1, 1), strides=strides, kernel_initializer=W_INIT)(input_tensor)\n",
        "    shortcut = BatchNormalization()(shortcut)\n",
        "    x = Add()([x, shortcut])\n",
        "    x = ReLU()(x)\n",
        "    return x\n",
        "\n",
        "def u_block(x, f, name, base_model):\n",
        "    y = base_model.get_layer(name).output\n",
        "    y = conv_bn(y, 256, 1)\n",
        "    f1 = f // 4\n",
        "    x = Concatenate()([x, y])\n",
        "    x = conv_block(x, 3, (f1, f1, f), strides=(1, 1))\n",
        "    x = conv_block(x, 3, (f1, f1, f), strides=(1, 1))\n",
        "    return x\n",
        "\n",
        "def get_model():\n",
        "    base_model = EfficientNetB4(\n",
        "        include_top=False,\n",
        "        weights='imagenet',\n",
        "        input_shape=(288,288,3)\n",
        "    )\n",
        "    base_model.trainable = False\n",
        "    for layer in base_model.layers[-7:]:\n",
        "        layer.trainable = True\n",
        "\n",
        "    for layer in base_model.layers:\n",
        "        if layer.name[:6] == 'block7':\n",
        "            layer.trainable = True\n",
        "    x = base_model.output\n",
        "    x = conv_bn(x, 256, 1)\n",
        "    x = conv_block(x, 3, (64, 64, 256), strides=(1, 1))\n",
        "    \n",
        "    x = u_block(x, 256, 'block6h_add', base_model)\n",
        "    x = up_conv_bn(x, 256, 3)\n",
        "    x = u_block(x, 256, 'block5f_add', base_model)\n",
        "    x = up_conv_bn(x, 256, 3)\n",
        "    x = u_block(x, 128, 'block3d_add', base_model)\n",
        "    x = up_conv_bn(x, 128, 3)\n",
        "    x = u_block(x, 64, 'block2d_add', base_model)\n",
        "    x = up_conv_bn(x, 64, 3)\n",
        "\n",
        "    x = UpSampling2D()(x)\n",
        "\n",
        "    x = Conv2DTranspose(2, 3, padding='same', kernel_initializer=W_INIT)(x)\n",
        "    x = BatchNormalization(axis=3)(x)\n",
        "    x = Softmax()(x)\n",
        "\n",
        "    return Model(base_model.input, x)\n",
        " \n",
        "    \n",
        "model = get_model()\n",
        "#model.summary()"
      ],
      "execution_count": null,
      "outputs": []
    },
    {
      "cell_type": "code",
      "metadata": {
        "id": "lwFh9ud1bbA9"
      },
      "source": [
        "from tensorflow.keras import backend as K\n",
        "def focal_loss(gamma=2., alpha=0.25):\n",
        "    def focal_loss_fixed(y_gt, y_pred):\n",
        "        epsilon = K.epsilon()\n",
        "        y_pred = K.clip(y_pred, epsilon, 1)\n",
        "        cross_entropy = -y_gt * K.log(y_pred)\n",
        "        loss = alpha * K.pow(1. - y_pred, gamma) * cross_entropy\n",
        "        return K.mean(K.sum(loss, axis=-1))\n",
        "    return focal_loss_fixed\n",
        "\n",
        "def IoU_score(y_gt, y_pred):\n",
        "    gt = y_gt[..., 1] > 0.5\n",
        "    pred = y_pred[..., 1] > 0.5\n",
        "    a = tf.reduce_sum(tf.cast(tf.math.logical_and(gt, pred), dtype='float32'))\n",
        "    b = tf.reduce_sum(tf.cast(tf.math.logical_or(gt, pred), dtype='float32'))\n",
        "    return  a / b\n",
        "\n",
        "model.compile(\n",
        "    optimizer=AdamP(learning_rate=0.0001, weight_decay=0.00001),\n",
        "    loss=focal_loss(),\n",
        "    metrics=[IoU_score]\n",
        ")"
      ],
      "execution_count": null,
      "outputs": []
    },
    {
      "cell_type": "code",
      "metadata": {
        "id": "upTp1ouImSnO"
      },
      "source": [
        "dir = 'data3'\n",
        "X_train = np.load(join(dir, 'images_train.npy'))\n",
        "y_train = np.load(join(dir, 'gt_train.npy'))\n",
        "X_val = np.load(join(dir, 'images_test.npy'))\n",
        "y_val = np.load(join(dir, 'gt_test.npy'))"
      ],
      "execution_count": null,
      "outputs": []
    },
    {
      "cell_type": "code",
      "metadata": {
        "id": "AFal7GQGOSF5",
        "colab": {
          "base_uri": "https://localhost:8080/",
          "height": 286
        },
        "outputId": "6f515b39-8033-4194-f675-e6294dce5d58"
      },
      "source": [
        "plt.imshow(y_train[0])"
      ],
      "execution_count": null,
      "outputs": [
        {
          "output_type": "execute_result",
          "data": {
            "text/plain": [
              "<matplotlib.image.AxesImage at 0x7f5154f54940>"
            ]
          },
          "metadata": {
            "tags": []
          },
          "execution_count": 10
        },
        {
          "output_type": "display_data",
          "data": {
            "image/png": "[encoded data removed]",
            "text/plain": [
              "<Figure size 432x288 with 1 Axes>"
            ]
          },
          "metadata": {
            "tags": [],
            "needs_background": "light"
          }
        }
      ]
    },
    {
      "cell_type": "code",
      "metadata": {
        "id": "iuzHE_Ltjjt9"
      },
      "source": [
        "def get_iou(gt, pred):\n",
        "    gt = gt[..., 0] > 0.5\n",
        "    pred = pred[..., 0] > 0.5\n",
        "    f = tf.reduce_sum(tf.cast(tf.math.logical_and(gt, pred), dtype='float32'))\n",
        "    s = tf.reduce_sum(tf.cast(tf.math.logical_or(gt, pred), dtype='float32'))\n",
        "    return f / s"
      ],
      "execution_count": null,
      "outputs": []
    },
    {
      "cell_type": "code",
      "metadata": {
        "id": "6z_RxRCumSyN",
        "colab": {
          "base_uri": "https://localhost:8080/",
          "height": 340
        },
        "outputId": "e5ea0205-3b9e-4501-a878-38fd0175e29a"
      },
      "source": [
        "model = BuildModel()\n",
        "opt = AdamP(learning_rate=0.0001, weight_decay=1e-5)\n",
        "model.compile(optimizer=opt, loss=focal_loss, metrics=[get_iou])"
      ],
      "execution_count": null,
      "outputs": [
        {
          "output_type": "error",
          "ename": "KeyboardInterrupt",
          "evalue": "ignored",
          "traceback": [
            "\u001b[0;31m---------------------------------------------------------------------------\u001b[0m",
            "\u001b[0;31mKeyboardInterrupt\u001b[0m                         Traceback (most recent call last)",
            "\u001b[0;32m<ipython-input-102-26d2e244e3ea>\u001b[0m in \u001b[0;36m<module>\u001b[0;34m()\u001b[0m\n\u001b[0;32m----> 1\u001b[0;31m \u001b[0mmodel\u001b[0m \u001b[0;34m=\u001b[0m \u001b[0mBuildModel\u001b[0m\u001b[0;34m(\u001b[0m\u001b[0;34m)\u001b[0m\u001b[0;34m\u001b[0m\u001b[0;34m\u001b[0m\u001b[0m\n\u001b[0m\u001b[1;32m      2\u001b[0m \u001b[0mopt\u001b[0m \u001b[0;34m=\u001b[0m \u001b[0mAdamP\u001b[0m\u001b[0;34m(\u001b[0m\u001b[0mlearning_rate\u001b[0m\u001b[0;34m=\u001b[0m\u001b[0;36m0.0001\u001b[0m\u001b[0;34m,\u001b[0m \u001b[0mweight_decay\u001b[0m\u001b[0;34m=\u001b[0m\u001b[0;36m1e-5\u001b[0m\u001b[0;34m)\u001b[0m\u001b[0;34m\u001b[0m\u001b[0;34m\u001b[0m\u001b[0m\n\u001b[1;32m      3\u001b[0m \u001b[0mmodel\u001b[0m\u001b[0;34m.\u001b[0m\u001b[0mcompile\u001b[0m\u001b[0;34m(\u001b[0m\u001b[0moptimizer\u001b[0m\u001b[0;34m=\u001b[0m\u001b[0mopt\u001b[0m\u001b[0;34m,\u001b[0m \u001b[0mloss\u001b[0m\u001b[0;34m=\u001b[0m\u001b[0mfocal_loss\u001b[0m\u001b[0;34m,\u001b[0m \u001b[0mmetrics\u001b[0m\u001b[0;34m=\u001b[0m\u001b[0;34m[\u001b[0m\u001b[0mget_iou\u001b[0m\u001b[0;34m]\u001b[0m\u001b[0;34m)\u001b[0m\u001b[0;34m\u001b[0m\u001b[0;34m\u001b[0m\u001b[0m\n",
            "\u001b[0;32m<ipython-input-99-f899351470d7>\u001b[0m in \u001b[0;36mBuildModel\u001b[0;34m(input_height, input_width)\u001b[0m\n\u001b[1;32m      9\u001b[0m         \u001b[0;32mreturn\u001b[0m \u001b[0mbase_model\u001b[0m\u001b[0;34m.\u001b[0m\u001b[0mget_layer\u001b[0m\u001b[0;34m(\u001b[0m\u001b[0mname\u001b[0m\u001b[0;34m=\u001b[0m\u001b[0mname\u001b[0m\u001b[0;34m)\u001b[0m\u001b[0;34m.\u001b[0m\u001b[0moutput\u001b[0m\u001b[0;34m\u001b[0m\u001b[0;34m\u001b[0m\u001b[0m\n\u001b[1;32m     10\u001b[0m \u001b[0;34m\u001b[0m\u001b[0m\n\u001b[0;32m---> 11\u001b[0;31m     \u001b[0mbase_model\u001b[0m \u001b[0;34m=\u001b[0m \u001b[0mEfficientNetB4\u001b[0m\u001b[0;34m(\u001b[0m\u001b[0mweights\u001b[0m\u001b[0;34m=\u001b[0m\u001b[0;34m'imagenet'\u001b[0m\u001b[0;34m,\u001b[0m \u001b[0minclude_top\u001b[0m\u001b[0;34m=\u001b[0m\u001b[0;32mFalse\u001b[0m\u001b[0;34m,\u001b[0m \u001b[0minput_shape\u001b[0m\u001b[0;34m=\u001b[0m\u001b[0;34m(\u001b[0m\u001b[0minput_height\u001b[0m\u001b[0;34m,\u001b[0m \u001b[0minput_width\u001b[0m\u001b[0;34m,\u001b[0m \u001b[0;36m3\u001b[0m\u001b[0;34m)\u001b[0m\u001b[0;34m)\u001b[0m\u001b[0;34m\u001b[0m\u001b[0;34m\u001b[0m\u001b[0m\n\u001b[0m\u001b[1;32m     12\u001b[0m \u001b[0;34m\u001b[0m\u001b[0m\n\u001b[1;32m     13\u001b[0m     \u001b[0mlast_trainable\u001b[0m \u001b[0;34m=\u001b[0m \u001b[0;36m31\u001b[0m\u001b[0;34m\u001b[0m\u001b[0;34m\u001b[0m\u001b[0m\n",
            "\u001b[0;32m/usr/local/lib/python3.6/dist-packages/tensorflow/python/keras/applications/efficientnet.py\u001b[0m in \u001b[0;36mEfficientNetB4\u001b[0;34m(include_top, weights, input_tensor, input_shape, pooling, classes, classifier_activation, **kwargs)\u001b[0m\n\u001b[1;32m    642\u001b[0m       \u001b[0mclasses\u001b[0m\u001b[0;34m=\u001b[0m\u001b[0mclasses\u001b[0m\u001b[0;34m,\u001b[0m\u001b[0;34m\u001b[0m\u001b[0;34m\u001b[0m\u001b[0m\n\u001b[1;32m    643\u001b[0m       \u001b[0mclassifier_activation\u001b[0m\u001b[0;34m=\u001b[0m\u001b[0mclassifier_activation\u001b[0m\u001b[0;34m,\u001b[0m\u001b[0;34m\u001b[0m\u001b[0;34m\u001b[0m\u001b[0m\n\u001b[0;32m--> 644\u001b[0;31m       **kwargs)\n\u001b[0m\u001b[1;32m    645\u001b[0m \u001b[0;34m\u001b[0m\u001b[0m\n\u001b[1;32m    646\u001b[0m \u001b[0;34m\u001b[0m\u001b[0m\n",
            "\u001b[0;32m/usr/local/lib/python3.6/dist-packages/tensorflow/python/keras/applications/efficientnet.py\u001b[0m in \u001b[0;36mEfficientNet\u001b[0;34m(width_coefficient, depth_coefficient, default_size, dropout_rate, drop_connect_rate, depth_divisor, activation, blocks_args, model_name, include_top, weights, input_tensor, input_shape, pooling, classes, classifier_activation)\u001b[0m\n\u001b[1;32m    405\u001b[0m         \u001b[0mcache_subdir\u001b[0m\u001b[0;34m=\u001b[0m\u001b[0;34m'models'\u001b[0m\u001b[0;34m,\u001b[0m\u001b[0;34m\u001b[0m\u001b[0;34m\u001b[0m\u001b[0m\n\u001b[1;32m    406\u001b[0m         file_hash=file_hash)\n\u001b[0;32m--> 407\u001b[0;31m     \u001b[0mmodel\u001b[0m\u001b[0;34m.\u001b[0m\u001b[0mload_weights\u001b[0m\u001b[0;34m(\u001b[0m\u001b[0mweights_path\u001b[0m\u001b[0;34m)\u001b[0m\u001b[0;34m\u001b[0m\u001b[0;34m\u001b[0m\u001b[0m\n\u001b[0m\u001b[1;32m    408\u001b[0m   \u001b[0;32melif\u001b[0m \u001b[0mweights\u001b[0m \u001b[0;32mis\u001b[0m \u001b[0;32mnot\u001b[0m \u001b[0;32mNone\u001b[0m\u001b[0;34m:\u001b[0m\u001b[0;34m\u001b[0m\u001b[0;34m\u001b[0m\u001b[0m\n\u001b[1;32m    409\u001b[0m     \u001b[0mmodel\u001b[0m\u001b[0;34m.\u001b[0m\u001b[0mload_weights\u001b[0m\u001b[0;34m(\u001b[0m\u001b[0mweights\u001b[0m\u001b[0;34m)\u001b[0m\u001b[0;34m\u001b[0m\u001b[0;34m\u001b[0m\u001b[0m\n",
            "\u001b[0;32m/usr/local/lib/python3.6/dist-packages/tensorflow/python/keras/engine/training.py\u001b[0m in \u001b[0;36mload_weights\u001b[0;34m(self, filepath, by_name, skip_mismatch, options)\u001b[0m\n\u001b[1;32m   2209\u001b[0m             f, self.layers, skip_mismatch=skip_mismatch)\n\u001b[1;32m   2210\u001b[0m       \u001b[0;32melse\u001b[0m\u001b[0;34m:\u001b[0m\u001b[0;34m\u001b[0m\u001b[0;34m\u001b[0m\u001b[0m\n\u001b[0;32m-> 2211\u001b[0;31m         \u001b[0mhdf5_format\u001b[0m\u001b[0;34m.\u001b[0m\u001b[0mload_weights_from_hdf5_group\u001b[0m\u001b[0;34m(\u001b[0m\u001b[0mf\u001b[0m\u001b[0;34m,\u001b[0m \u001b[0mself\u001b[0m\u001b[0;34m.\u001b[0m\u001b[0mlayers\u001b[0m\u001b[0;34m)\u001b[0m\u001b[0;34m\u001b[0m\u001b[0;34m\u001b[0m\u001b[0m\n\u001b[0m\u001b[1;32m   2212\u001b[0m \u001b[0;34m\u001b[0m\u001b[0m\n\u001b[1;32m   2213\u001b[0m   \u001b[0;32mdef\u001b[0m \u001b[0m_updated_config\u001b[0m\u001b[0;34m(\u001b[0m\u001b[0mself\u001b[0m\u001b[0;34m)\u001b[0m\u001b[0;34m:\u001b[0m\u001b[0;34m\u001b[0m\u001b[0;34m\u001b[0m\u001b[0m\n",
            "\u001b[0;32m/usr/local/lib/python3.6/dist-packages/tensorflow/python/keras/saving/hdf5_format.py\u001b[0m in \u001b[0;36mload_weights_from_hdf5_group\u001b[0;34m(f, layers)\u001b[0m\n\u001b[1;32m    706\u001b[0m                        str(len(weight_values)) + ' elements.')\n\u001b[1;32m    707\u001b[0m     \u001b[0mweight_value_tuples\u001b[0m \u001b[0;34m+=\u001b[0m \u001b[0mzip\u001b[0m\u001b[0;34m(\u001b[0m\u001b[0msymbolic_weights\u001b[0m\u001b[0;34m,\u001b[0m \u001b[0mweight_values\u001b[0m\u001b[0;34m)\u001b[0m\u001b[0;34m\u001b[0m\u001b[0;34m\u001b[0m\u001b[0m\n\u001b[0;32m--> 708\u001b[0;31m   \u001b[0mK\u001b[0m\u001b[0;34m.\u001b[0m\u001b[0mbatch_set_value\u001b[0m\u001b[0;34m(\u001b[0m\u001b[0mweight_value_tuples\u001b[0m\u001b[0;34m)\u001b[0m\u001b[0;34m\u001b[0m\u001b[0;34m\u001b[0m\u001b[0m\n\u001b[0m\u001b[1;32m    709\u001b[0m \u001b[0;34m\u001b[0m\u001b[0m\n\u001b[1;32m    710\u001b[0m \u001b[0;34m\u001b[0m\u001b[0m\n",
            "\u001b[0;32m/usr/local/lib/python3.6/dist-packages/tensorflow/python/util/dispatch.py\u001b[0m in \u001b[0;36mwrapper\u001b[0;34m(*args, **kwargs)\u001b[0m\n\u001b[1;32m    199\u001b[0m     \u001b[0;34m\"\"\"Call target, and fall back on dispatchers if there is a TypeError.\"\"\"\u001b[0m\u001b[0;34m\u001b[0m\u001b[0;34m\u001b[0m\u001b[0m\n\u001b[1;32m    200\u001b[0m     \u001b[0;32mtry\u001b[0m\u001b[0;34m:\u001b[0m\u001b[0;34m\u001b[0m\u001b[0;34m\u001b[0m\u001b[0m\n\u001b[0;32m--> 201\u001b[0;31m       \u001b[0;32mreturn\u001b[0m \u001b[0mtarget\u001b[0m\u001b[0;34m(\u001b[0m\u001b[0;34m*\u001b[0m\u001b[0margs\u001b[0m\u001b[0;34m,\u001b[0m \u001b[0;34m**\u001b[0m\u001b[0mkwargs\u001b[0m\u001b[0;34m)\u001b[0m\u001b[0;34m\u001b[0m\u001b[0;34m\u001b[0m\u001b[0m\n\u001b[0m\u001b[1;32m    202\u001b[0m     \u001b[0;32mexcept\u001b[0m \u001b[0;34m(\u001b[0m\u001b[0mTypeError\u001b[0m\u001b[0;34m,\u001b[0m \u001b[0mValueError\u001b[0m\u001b[0;34m)\u001b[0m\u001b[0;34m:\u001b[0m\u001b[0;34m\u001b[0m\u001b[0;34m\u001b[0m\u001b[0m\n\u001b[1;32m    203\u001b[0m       \u001b[0;31m# Note: convert_to_eager_tensor currently raises a ValueError, not a\u001b[0m\u001b[0;34m\u001b[0m\u001b[0;34m\u001b[0m\u001b[0;34m\u001b[0m\u001b[0m\n",
            "\u001b[0;32m/usr/local/lib/python3.6/dist-packages/tensorflow/python/keras/backend.py\u001b[0m in \u001b[0;36mbatch_set_value\u001b[0;34m(tuples)\u001b[0m\n\u001b[1;32m   3574\u001b[0m   \u001b[0;32mif\u001b[0m \u001b[0mops\u001b[0m\u001b[0;34m.\u001b[0m\u001b[0mexecuting_eagerly_outside_functions\u001b[0m\u001b[0;34m(\u001b[0m\u001b[0;34m)\u001b[0m\u001b[0;34m:\u001b[0m\u001b[0;34m\u001b[0m\u001b[0;34m\u001b[0m\u001b[0m\n\u001b[1;32m   3575\u001b[0m     \u001b[0;32mfor\u001b[0m \u001b[0mx\u001b[0m\u001b[0;34m,\u001b[0m \u001b[0mvalue\u001b[0m \u001b[0;32min\u001b[0m \u001b[0mtuples\u001b[0m\u001b[0;34m:\u001b[0m\u001b[0;34m\u001b[0m\u001b[0;34m\u001b[0m\u001b[0m\n\u001b[0;32m-> 3576\u001b[0;31m       \u001b[0mx\u001b[0m\u001b[0;34m.\u001b[0m\u001b[0massign\u001b[0m\u001b[0;34m(\u001b[0m\u001b[0mnp\u001b[0m\u001b[0;34m.\u001b[0m\u001b[0masarray\u001b[0m\u001b[0;34m(\u001b[0m\u001b[0mvalue\u001b[0m\u001b[0;34m,\u001b[0m \u001b[0mdtype\u001b[0m\u001b[0;34m=\u001b[0m\u001b[0mdtype\u001b[0m\u001b[0;34m(\u001b[0m\u001b[0mx\u001b[0m\u001b[0;34m)\u001b[0m\u001b[0;34m)\u001b[0m\u001b[0;34m)\u001b[0m\u001b[0;34m\u001b[0m\u001b[0;34m\u001b[0m\u001b[0m\n\u001b[0m\u001b[1;32m   3577\u001b[0m   \u001b[0;32melse\u001b[0m\u001b[0;34m:\u001b[0m\u001b[0;34m\u001b[0m\u001b[0;34m\u001b[0m\u001b[0m\n\u001b[1;32m   3578\u001b[0m     \u001b[0;32mwith\u001b[0m \u001b[0mget_graph\u001b[0m\u001b[0;34m(\u001b[0m\u001b[0;34m)\u001b[0m\u001b[0;34m.\u001b[0m\u001b[0mas_default\u001b[0m\u001b[0;34m(\u001b[0m\u001b[0;34m)\u001b[0m\u001b[0;34m:\u001b[0m\u001b[0;34m\u001b[0m\u001b[0;34m\u001b[0m\u001b[0m\n",
            "\u001b[0;32m/usr/local/lib/python3.6/dist-packages/tensorflow/python/ops/resource_variable_ops.py\u001b[0m in \u001b[0;36massign\u001b[0;34m(self, value, use_locking, name, read_value)\u001b[0m\n\u001b[1;32m    858\u001b[0m       \u001b[0mself\u001b[0m\u001b[0;34m.\u001b[0m\u001b[0m_shape\u001b[0m\u001b[0;34m.\u001b[0m\u001b[0massert_is_compatible_with\u001b[0m\u001b[0;34m(\u001b[0m\u001b[0mvalue_tensor\u001b[0m\u001b[0;34m.\u001b[0m\u001b[0mshape\u001b[0m\u001b[0;34m)\u001b[0m\u001b[0;34m\u001b[0m\u001b[0;34m\u001b[0m\u001b[0m\n\u001b[1;32m    859\u001b[0m       assign_op = gen_resource_variable_ops.assign_variable_op(\n\u001b[0;32m--> 860\u001b[0;31m           self.handle, value_tensor, name=name)\n\u001b[0m\u001b[1;32m    861\u001b[0m       \u001b[0;32mif\u001b[0m \u001b[0mread_value\u001b[0m\u001b[0;34m:\u001b[0m\u001b[0;34m\u001b[0m\u001b[0;34m\u001b[0m\u001b[0m\n\u001b[1;32m    862\u001b[0m         \u001b[0;32mreturn\u001b[0m \u001b[0mself\u001b[0m\u001b[0;34m.\u001b[0m\u001b[0m_lazy_read\u001b[0m\u001b[0;34m(\u001b[0m\u001b[0massign_op\u001b[0m\u001b[0;34m)\u001b[0m\u001b[0;34m\u001b[0m\u001b[0;34m\u001b[0m\u001b[0m\n",
            "\u001b[0;32m/usr/local/lib/python3.6/dist-packages/tensorflow/python/ops/gen_resource_variable_ops.py\u001b[0m in \u001b[0;36massign_variable_op\u001b[0;34m(resource, value, name)\u001b[0m\n\u001b[1;32m    142\u001b[0m       _result = pywrap_tfe.TFE_Py_FastPathExecute(\n\u001b[1;32m    143\u001b[0m         \u001b[0m_ctx\u001b[0m\u001b[0;34m.\u001b[0m\u001b[0m_context_handle\u001b[0m\u001b[0;34m,\u001b[0m \u001b[0mtld\u001b[0m\u001b[0;34m.\u001b[0m\u001b[0mdevice_name\u001b[0m\u001b[0;34m,\u001b[0m \u001b[0;34m\"AssignVariableOp\"\u001b[0m\u001b[0;34m,\u001b[0m \u001b[0mname\u001b[0m\u001b[0;34m,\u001b[0m\u001b[0;34m\u001b[0m\u001b[0;34m\u001b[0m\u001b[0m\n\u001b[0;32m--> 144\u001b[0;31m         tld.op_callbacks, resource, value)\n\u001b[0m\u001b[1;32m    145\u001b[0m       \u001b[0;32mreturn\u001b[0m \u001b[0m_result\u001b[0m\u001b[0;34m\u001b[0m\u001b[0;34m\u001b[0m\u001b[0m\n\u001b[1;32m    146\u001b[0m     \u001b[0;32mexcept\u001b[0m \u001b[0m_core\u001b[0m\u001b[0;34m.\u001b[0m\u001b[0m_NotOkStatusException\u001b[0m \u001b[0;32mas\u001b[0m \u001b[0me\u001b[0m\u001b[0;34m:\u001b[0m\u001b[0;34m\u001b[0m\u001b[0;34m\u001b[0m\u001b[0m\n",
            "\u001b[0;31mKeyboardInterrupt\u001b[0m: "
          ]
        }
      ]
    },
    {
      "cell_type": "code",
      "metadata": {
        "id": "DQWYOvHkqO-y"
      },
      "source": [
        "if not os.path.isdir('checkpoints6/'):\n",
        "    os.makedirs('checkpoints6/')\n",
        "from tensorflow.keras.callbacks import ModelCheckpoint\n",
        "checkpoints = ModelCheckpoint('checkpoints6/model-{epoch:03d}-{val_loss:.5f}-{val_IoU_score:.5f}.hdf5', \n",
        "                              monitor='val_loss', verbose=1, save_best_only=False, save_weights_only=True)"
      ],
      "execution_count": null,
      "outputs": []
    },
    {
      "cell_type": "code",
      "metadata": {
        "id": "4LmAT_21xYgh"
      },
      "source": [
        "transform = A.Compose([\n",
        "            A.Flip(p=0.5),\n",
        "            A.OneOf(\n",
        "                [A.RandomRotate90(p=0.8),\n",
        "                A.Transpose(p=0.8),\n",
        "                A.ShiftScaleRotate(p=0.8),\n",
        "                A.VerticalFlip()],\n",
        "                p=0.5\n",
        "            ),\n",
        "            A.OneOf(\n",
        "                [A.JpegCompression(p=0.8),\n",
        "                A.GaussNoise(p=0.8),\n",
        "                A.Blur(p=0.8)],\n",
        "                p = 0.5\n",
        "            ),\n",
        "            A.OneOf([\n",
        "                A.OpticalDistortion(p=0.8),\n",
        "                A.GridDistortion(p=0.8),\n",
        "                A.IAAPiecewiseAffine(p=0.8),],\n",
        "                p=0.5),\n",
        "            A.OneOf([\n",
        "                A.RGBShift(p=0.8),\n",
        "                A.RandomContrast(),\n",
        "                A.RandomGamma(),\n",
        "                A.RandomBrightness()\n",
        "            ], p=0.5),\n",
        "            A.RandomBrightnessContrast(p=0.5),            \n",
        "                ],\n",
        "                p=1.0)\n",
        "def Transform(image, mask):\n",
        "    return transform(image=image, mask=mask)"
      ],
      "execution_count": null,
      "outputs": []
    },
    {
      "cell_type": "code",
      "metadata": {
        "id": "pbTW44iKrwTA"
      },
      "source": [
        "batch_cap = 32\n",
        "\n",
        "def GeneratorData():\n",
        "    size_batch = 0\n",
        "    X = np.zeros((batch_cap, IMAGESIZE, IMAGESIZE, 3), dtype='float32')\n",
        "    y = np.zeros((batch_cap, IMAGESIZE, IMAGESIZE, 2), dtype='float32')\n",
        "    idx = np.arange(len(X_train))\n",
        "    while True:\n",
        "        idx = np.random.permutation(idx)\n",
        "        for i in idx:\n",
        "            aug = Transform(X_train[i], y_train[i])\n",
        "            x_one, y_one = aug['image'].astype(np.float32) / 255, aug['mask'].astype(np.float32) / 255 \n",
        "            X[size_batch] = x_one\n",
        "            y[size_batch] = np.stack((1 - y_one, y_one), axis=-1)\n",
        "            size_batch += 1 \n",
        "            if size_batch == batch_cap:\n",
        "                yield preprocess_input(X), y\n",
        "                size_batch = 0\n",
        "\n",
        "def GeneratorDataVal():\n",
        "    size_batch = 0\n",
        "    X = np.zeros((batch_cap, IMAGESIZE, IMAGESIZE, 3), dtype='float32')\n",
        "    y = np.zeros((batch_cap, IMAGESIZE, IMAGESIZE, 2), dtype='float32')\n",
        "    idx = np.arange(len(X_val))\n",
        "    while True:\n",
        "        idx = np.random.permutation(idx)\n",
        "        for i in idx:\n",
        "            x_one, y_one = X_val[i].astype(np.float32) / 255, y_val[i].astype(np.float32) / 255\n",
        "            X[size_batch] = x_one\n",
        "            y[size_batch] = np.stack((1 - y_one, y_one), axis=-1)\n",
        "            size_batch += 1 \n",
        "            if size_batch == batch_cap:\n",
        "                yield preprocess_input(X), y\n",
        "                size_batch = 0"
      ],
      "execution_count": null,
      "outputs": []
    },
    {
      "cell_type": "code",
      "metadata": {
        "id": "rHrsiGYxRnE4"
      },
      "source": [
        "gen = GeneratorData()"
      ],
      "execution_count": null,
      "outputs": []
    },
    {
      "cell_type": "code",
      "metadata": {
        "id": "vYz-CJ9lRpK8"
      },
      "source": [
        "X, y = next(gen)"
      ],
      "execution_count": null,
      "outputs": []
    },
    {
      "cell_type": "code",
      "metadata": {
        "id": "_rGkpxCdR21a"
      },
      "source": [
        "y_pred = model.predict(X[:1])"
      ],
      "execution_count": null,
      "outputs": []
    },
    {
      "cell_type": "code",
      "metadata": {
        "id": "sO7WirkWR2N-",
        "colab": {
          "base_uri": "https://localhost:8080/"
        },
        "outputId": "daafa883-ec82-4474-f1a8-9d7c33a3ff26"
      },
      "source": [
        "get_iou(y_pred[0], y)"
      ],
      "execution_count": null,
      "outputs": [
        {
          "output_type": "execute_result",
          "data": {
            "text/plain": [
              "<tf.Tensor: shape=(), dtype=float32, numpy=0.3028697>"
            ]
          },
          "metadata": {
            "tags": []
          },
          "execution_count": 59
        }
      ]
    },
    {
      "cell_type": "code",
      "metadata": {
        "id": "wC6dv6bySDfY",
        "colab": {
          "base_uri": "https://localhost:8080/"
        },
        "outputId": "80a9e7b5-03aa-4068-e736-903d1b08db73"
      },
      "source": [
        "y_pred.shape"
      ],
      "execution_count": null,
      "outputs": [
        {
          "output_type": "execute_result",
          "data": {
            "text/plain": [
              "(1, 288, 288, 2)"
            ]
          },
          "metadata": {
            "tags": []
          },
          "execution_count": 58
        }
      ]
    },
    {
      "cell_type": "code",
      "metadata": {
        "id": "bvQU_uZcRa54",
        "colab": {
          "base_uri": "https://localhost:8080/",
          "height": 286
        },
        "outputId": "9fe10c03-f8e9-439b-a376-905dd7b66d7a"
      },
      "source": [
        "plt.imshow(y_pred[0, ..., 0])"
      ],
      "execution_count": null,
      "outputs": [
        {
          "output_type": "execute_result",
          "data": {
            "text/plain": [
              "<matplotlib.image.AxesImage at 0x7f4eeefcffd0>"
            ]
          },
          "metadata": {
            "tags": []
          },
          "execution_count": 57
        },
        {
          "output_type": "display_data",
          "data": {
            "image/png": "[encoded data removed]",
            "text/plain": [
              "<Figure size 432x288 with 1 Axes>"
            ]
          },
          "metadata": {
            "tags": [],
            "needs_background": "light"
          }
        }
      ]
    },
    {
      "cell_type": "code",
      "metadata": {
        "id": "YdqZYzZN-DYB"
      },
      "source": [
        "batch_cap = 32\n",
        "dataset_train = Dataset.from_generator(GeneratorData, \n",
        "                                       ('float32', 'float32'), \n",
        "                                       (tf.TensorShape([batch_cap, IMAGESIZE, IMAGESIZE, 3]), \n",
        "                                        tf.TensorShape([batch_cap, IMAGESIZE, IMAGESIZE, 2])), \n",
        "                                       args=[])\n",
        "dataset_val = Dataset.from_generator(GeneratorDataVal, ('float32', 'float32'), \n",
        "                                     (tf.TensorShape([batch_cap, IMAGESIZE, IMAGESIZE, 3]), \n",
        "                                      tf.TensorShape([batch_cap, IMAGESIZE, IMAGESIZE, 2])), \n",
        "                                     args=[])"
      ],
      "execution_count": null,
      "outputs": []
    },
    {
      "cell_type": "code",
      "metadata": {
        "id": "-Y1JqRzeriDU",
        "colab": {
          "base_uri": "https://localhost:8080/",
          "height": 425
        },
        "outputId": "ca865a2f-481e-41a9-f7e0-13059e5423b1"
      },
      "source": [
        "history = model.fit(dataset_train, steps_per_epoch=100, epochs=500, validation_data=dataset_val, \n",
        "                    callbacks=checkpoints)"
      ],
      "execution_count": null,
      "outputs": [
        {
          "output_type": "stream",
          "text": [
            "Epoch 1/500\n",
            "100/100 [==============================] - ETA: 0s - loss: 0.0433 - IoU_score: 0.2517\n",
            "Epoch 00001: saving model to checkpoints6/model-001-0.03900-0.00241.hdf5\n",
            "100/100 [==============================] - 132s 1s/step - loss: 0.0433 - IoU_score: 0.2517 - val_loss: 0.0390 - val_IoU_score: 0.0024\n",
            "Epoch 2/500\n",
            "  3/100 [..............................] - ETA: 1:31 - loss: 0.0387 - IoU_score: 0.3088"
          ],
          "name": "stdout"
        },
        {
          "output_type": "error",
          "ename": "KeyboardInterrupt",
          "evalue": "ignored",
          "traceback": [
            "\u001b[0;31m---------------------------------------------------------------------------\u001b[0m",
            "\u001b[0;31mKeyboardInterrupt\u001b[0m                         Traceback (most recent call last)",
            "\u001b[0;32m<ipython-input-16-7ee43cbd433a>\u001b[0m in \u001b[0;36m<module>\u001b[0;34m()\u001b[0m\n\u001b[1;32m      1\u001b[0m history = model.fit(dataset_train, steps_per_epoch=100, epochs=500, validation_data=dataset_val, \n\u001b[0;32m----> 2\u001b[0;31m                     callbacks=checkpoints)\n\u001b[0m",
            "\u001b[0;32m/usr/local/lib/python3.6/dist-packages/tensorflow/python/keras/engine/training.py\u001b[0m in \u001b[0;36m_method_wrapper\u001b[0;34m(self, *args, **kwargs)\u001b[0m\n\u001b[1;32m    106\u001b[0m   \u001b[0;32mdef\u001b[0m \u001b[0m_method_wrapper\u001b[0m\u001b[0;34m(\u001b[0m\u001b[0mself\u001b[0m\u001b[0;34m,\u001b[0m \u001b[0;34m*\u001b[0m\u001b[0margs\u001b[0m\u001b[0;34m,\u001b[0m \u001b[0;34m**\u001b[0m\u001b[0mkwargs\u001b[0m\u001b[0;34m)\u001b[0m\u001b[0;34m:\u001b[0m\u001b[0;34m\u001b[0m\u001b[0;34m\u001b[0m\u001b[0m\n\u001b[1;32m    107\u001b[0m     \u001b[0;32mif\u001b[0m \u001b[0;32mnot\u001b[0m \u001b[0mself\u001b[0m\u001b[0;34m.\u001b[0m\u001b[0m_in_multi_worker_mode\u001b[0m\u001b[0;34m(\u001b[0m\u001b[0;34m)\u001b[0m\u001b[0;34m:\u001b[0m  \u001b[0;31m# pylint: disable=protected-access\u001b[0m\u001b[0;34m\u001b[0m\u001b[0;34m\u001b[0m\u001b[0m\n\u001b[0;32m--> 108\u001b[0;31m       \u001b[0;32mreturn\u001b[0m \u001b[0mmethod\u001b[0m\u001b[0;34m(\u001b[0m\u001b[0mself\u001b[0m\u001b[0;34m,\u001b[0m \u001b[0;34m*\u001b[0m\u001b[0margs\u001b[0m\u001b[0;34m,\u001b[0m \u001b[0;34m**\u001b[0m\u001b[0mkwargs\u001b[0m\u001b[0;34m)\u001b[0m\u001b[0;34m\u001b[0m\u001b[0;34m\u001b[0m\u001b[0m\n\u001b[0m\u001b[1;32m    109\u001b[0m \u001b[0;34m\u001b[0m\u001b[0m\n\u001b[1;32m    110\u001b[0m     \u001b[0;31m# Running inside `run_distribute_coordinator` already.\u001b[0m\u001b[0;34m\u001b[0m\u001b[0;34m\u001b[0m\u001b[0;34m\u001b[0m\u001b[0m\n",
            "\u001b[0;32m/usr/local/lib/python3.6/dist-packages/tensorflow/python/keras/engine/training.py\u001b[0m in \u001b[0;36mfit\u001b[0;34m(self, x, y, batch_size, epochs, verbose, callbacks, validation_split, validation_data, shuffle, class_weight, sample_weight, initial_epoch, steps_per_epoch, validation_steps, validation_batch_size, validation_freq, max_queue_size, workers, use_multiprocessing)\u001b[0m\n\u001b[1;32m   1096\u001b[0m                 batch_size=batch_size):\n\u001b[1;32m   1097\u001b[0m               \u001b[0mcallbacks\u001b[0m\u001b[0;34m.\u001b[0m\u001b[0mon_train_batch_begin\u001b[0m\u001b[0;34m(\u001b[0m\u001b[0mstep\u001b[0m\u001b[0;34m)\u001b[0m\u001b[0;34m\u001b[0m\u001b[0;34m\u001b[0m\u001b[0m\n\u001b[0;32m-> 1098\u001b[0;31m               \u001b[0mtmp_logs\u001b[0m \u001b[0;34m=\u001b[0m \u001b[0mtrain_function\u001b[0m\u001b[0;34m(\u001b[0m\u001b[0miterator\u001b[0m\u001b[0;34m)\u001b[0m\u001b[0;34m\u001b[0m\u001b[0;34m\u001b[0m\u001b[0m\n\u001b[0m\u001b[1;32m   1099\u001b[0m               \u001b[0;32mif\u001b[0m \u001b[0mdata_handler\u001b[0m\u001b[0;34m.\u001b[0m\u001b[0mshould_sync\u001b[0m\u001b[0;34m:\u001b[0m\u001b[0;34m\u001b[0m\u001b[0;34m\u001b[0m\u001b[0m\n\u001b[1;32m   1100\u001b[0m                 \u001b[0mcontext\u001b[0m\u001b[0;34m.\u001b[0m\u001b[0masync_wait\u001b[0m\u001b[0;34m(\u001b[0m\u001b[0;34m)\u001b[0m\u001b[0;34m\u001b[0m\u001b[0;34m\u001b[0m\u001b[0m\n",
            "\u001b[0;32m/usr/local/lib/python3.6/dist-packages/tensorflow/python/eager/def_function.py\u001b[0m in \u001b[0;36m__call__\u001b[0;34m(self, *args, **kwds)\u001b[0m\n\u001b[1;32m    778\u001b[0m       \u001b[0;32melse\u001b[0m\u001b[0;34m:\u001b[0m\u001b[0;34m\u001b[0m\u001b[0;34m\u001b[0m\u001b[0m\n\u001b[1;32m    779\u001b[0m         \u001b[0mcompiler\u001b[0m \u001b[0;34m=\u001b[0m \u001b[0;34m\"nonXla\"\u001b[0m\u001b[0;34m\u001b[0m\u001b[0;34m\u001b[0m\u001b[0m\n\u001b[0;32m--> 780\u001b[0;31m         \u001b[0mresult\u001b[0m \u001b[0;34m=\u001b[0m \u001b[0mself\u001b[0m\u001b[0;34m.\u001b[0m\u001b[0m_call\u001b[0m\u001b[0;34m(\u001b[0m\u001b[0;34m*\u001b[0m\u001b[0margs\u001b[0m\u001b[0;34m,\u001b[0m \u001b[0;34m**\u001b[0m\u001b[0mkwds\u001b[0m\u001b[0;34m)\u001b[0m\u001b[0;34m\u001b[0m\u001b[0;34m\u001b[0m\u001b[0m\n\u001b[0m\u001b[1;32m    781\u001b[0m \u001b[0;34m\u001b[0m\u001b[0m\n\u001b[1;32m    782\u001b[0m       \u001b[0mnew_tracing_count\u001b[0m \u001b[0;34m=\u001b[0m \u001b[0mself\u001b[0m\u001b[0;34m.\u001b[0m\u001b[0m_get_tracing_count\u001b[0m\u001b[0;34m(\u001b[0m\u001b[0;34m)\u001b[0m\u001b[0;34m\u001b[0m\u001b[0;34m\u001b[0m\u001b[0m\n",
            "\u001b[0;32m/usr/local/lib/python3.6/dist-packages/tensorflow/python/eager/def_function.py\u001b[0m in \u001b[0;36m_call\u001b[0;34m(self, *args, **kwds)\u001b[0m\n\u001b[1;32m    805\u001b[0m       \u001b[0;31m# In this case we have created variables on the first call, so we run the\u001b[0m\u001b[0;34m\u001b[0m\u001b[0;34m\u001b[0m\u001b[0;34m\u001b[0m\u001b[0m\n\u001b[1;32m    806\u001b[0m       \u001b[0;31m# defunned version which is guaranteed to never create variables.\u001b[0m\u001b[0;34m\u001b[0m\u001b[0;34m\u001b[0m\u001b[0;34m\u001b[0m\u001b[0m\n\u001b[0;32m--> 807\u001b[0;31m       \u001b[0;32mreturn\u001b[0m \u001b[0mself\u001b[0m\u001b[0;34m.\u001b[0m\u001b[0m_stateless_fn\u001b[0m\u001b[0;34m(\u001b[0m\u001b[0;34m*\u001b[0m\u001b[0margs\u001b[0m\u001b[0;34m,\u001b[0m \u001b[0;34m**\u001b[0m\u001b[0mkwds\u001b[0m\u001b[0;34m)\u001b[0m  \u001b[0;31m# pylint: disable=not-callable\u001b[0m\u001b[0;34m\u001b[0m\u001b[0;34m\u001b[0m\u001b[0m\n\u001b[0m\u001b[1;32m    808\u001b[0m     \u001b[0;32melif\u001b[0m \u001b[0mself\u001b[0m\u001b[0;34m.\u001b[0m\u001b[0m_stateful_fn\u001b[0m \u001b[0;32mis\u001b[0m \u001b[0;32mnot\u001b[0m \u001b[0;32mNone\u001b[0m\u001b[0;34m:\u001b[0m\u001b[0;34m\u001b[0m\u001b[0;34m\u001b[0m\u001b[0m\n\u001b[1;32m    809\u001b[0m       \u001b[0;31m# Release the lock early so that multiple threads can perform the call\u001b[0m\u001b[0;34m\u001b[0m\u001b[0;34m\u001b[0m\u001b[0;34m\u001b[0m\u001b[0m\n",
            "\u001b[0;32m/usr/local/lib/python3.6/dist-packages/tensorflow/python/eager/function.py\u001b[0m in \u001b[0;36m__call__\u001b[0;34m(self, *args, **kwargs)\u001b[0m\n\u001b[1;32m   2827\u001b[0m     \u001b[0;32mwith\u001b[0m \u001b[0mself\u001b[0m\u001b[0;34m.\u001b[0m\u001b[0m_lock\u001b[0m\u001b[0;34m:\u001b[0m\u001b[0;34m\u001b[0m\u001b[0;34m\u001b[0m\u001b[0m\n\u001b[1;32m   2828\u001b[0m       \u001b[0mgraph_function\u001b[0m\u001b[0;34m,\u001b[0m \u001b[0margs\u001b[0m\u001b[0;34m,\u001b[0m \u001b[0mkwargs\u001b[0m \u001b[0;34m=\u001b[0m \u001b[0mself\u001b[0m\u001b[0;34m.\u001b[0m\u001b[0m_maybe_define_function\u001b[0m\u001b[0;34m(\u001b[0m\u001b[0margs\u001b[0m\u001b[0;34m,\u001b[0m \u001b[0mkwargs\u001b[0m\u001b[0;34m)\u001b[0m\u001b[0;34m\u001b[0m\u001b[0;34m\u001b[0m\u001b[0m\n\u001b[0;32m-> 2829\u001b[0;31m     \u001b[0;32mreturn\u001b[0m \u001b[0mgraph_function\u001b[0m\u001b[0;34m.\u001b[0m\u001b[0m_filtered_call\u001b[0m\u001b[0;34m(\u001b[0m\u001b[0margs\u001b[0m\u001b[0;34m,\u001b[0m \u001b[0mkwargs\u001b[0m\u001b[0;34m)\u001b[0m  \u001b[0;31m# pylint: disable=protected-access\u001b[0m\u001b[0;34m\u001b[0m\u001b[0;34m\u001b[0m\u001b[0m\n\u001b[0m\u001b[1;32m   2830\u001b[0m \u001b[0;34m\u001b[0m\u001b[0m\n\u001b[1;32m   2831\u001b[0m   \u001b[0;34m@\u001b[0m\u001b[0mproperty\u001b[0m\u001b[0;34m\u001b[0m\u001b[0;34m\u001b[0m\u001b[0m\n",
            "\u001b[0;32m/usr/local/lib/python3.6/dist-packages/tensorflow/python/eager/function.py\u001b[0m in \u001b[0;36m_filtered_call\u001b[0;34m(self, args, kwargs, cancellation_manager)\u001b[0m\n\u001b[1;32m   1846\u001b[0m                            resource_variable_ops.BaseResourceVariable))],\n\u001b[1;32m   1847\u001b[0m         \u001b[0mcaptured_inputs\u001b[0m\u001b[0;34m=\u001b[0m\u001b[0mself\u001b[0m\u001b[0;34m.\u001b[0m\u001b[0mcaptured_inputs\u001b[0m\u001b[0;34m,\u001b[0m\u001b[0;34m\u001b[0m\u001b[0;34m\u001b[0m\u001b[0m\n\u001b[0;32m-> 1848\u001b[0;31m         cancellation_manager=cancellation_manager)\n\u001b[0m\u001b[1;32m   1849\u001b[0m \u001b[0;34m\u001b[0m\u001b[0m\n\u001b[1;32m   1850\u001b[0m   \u001b[0;32mdef\u001b[0m \u001b[0m_call_flat\u001b[0m\u001b[0;34m(\u001b[0m\u001b[0mself\u001b[0m\u001b[0;34m,\u001b[0m \u001b[0margs\u001b[0m\u001b[0;34m,\u001b[0m \u001b[0mcaptured_inputs\u001b[0m\u001b[0;34m,\u001b[0m \u001b[0mcancellation_manager\u001b[0m\u001b[0;34m=\u001b[0m\u001b[0;32mNone\u001b[0m\u001b[0;34m)\u001b[0m\u001b[0;34m:\u001b[0m\u001b[0;34m\u001b[0m\u001b[0;34m\u001b[0m\u001b[0m\n",
            "\u001b[0;32m/usr/local/lib/python3.6/dist-packages/tensorflow/python/eager/function.py\u001b[0m in \u001b[0;36m_call_flat\u001b[0;34m(self, args, captured_inputs, cancellation_manager)\u001b[0m\n\u001b[1;32m   1922\u001b[0m       \u001b[0;31m# No tape is watching; skip to running the function.\u001b[0m\u001b[0;34m\u001b[0m\u001b[0;34m\u001b[0m\u001b[0;34m\u001b[0m\u001b[0m\n\u001b[1;32m   1923\u001b[0m       return self._build_call_outputs(self._inference_function.call(\n\u001b[0;32m-> 1924\u001b[0;31m           ctx, args, cancellation_manager=cancellation_manager))\n\u001b[0m\u001b[1;32m   1925\u001b[0m     forward_backward = self._select_forward_and_backward_functions(\n\u001b[1;32m   1926\u001b[0m         \u001b[0margs\u001b[0m\u001b[0;34m,\u001b[0m\u001b[0;34m\u001b[0m\u001b[0;34m\u001b[0m\u001b[0m\n",
            "\u001b[0;32m/usr/local/lib/python3.6/dist-packages/tensorflow/python/eager/function.py\u001b[0m in \u001b[0;36mcall\u001b[0;34m(self, ctx, args, cancellation_manager)\u001b[0m\n\u001b[1;32m    548\u001b[0m               \u001b[0minputs\u001b[0m\u001b[0;34m=\u001b[0m\u001b[0margs\u001b[0m\u001b[0;34m,\u001b[0m\u001b[0;34m\u001b[0m\u001b[0;34m\u001b[0m\u001b[0m\n\u001b[1;32m    549\u001b[0m               \u001b[0mattrs\u001b[0m\u001b[0;34m=\u001b[0m\u001b[0mattrs\u001b[0m\u001b[0;34m,\u001b[0m\u001b[0;34m\u001b[0m\u001b[0;34m\u001b[0m\u001b[0m\n\u001b[0;32m--> 550\u001b[0;31m               ctx=ctx)\n\u001b[0m\u001b[1;32m    551\u001b[0m         \u001b[0;32melse\u001b[0m\u001b[0;34m:\u001b[0m\u001b[0;34m\u001b[0m\u001b[0;34m\u001b[0m\u001b[0m\n\u001b[1;32m    552\u001b[0m           outputs = execute.execute_with_cancellation(\n",
            "\u001b[0;32m/usr/local/lib/python3.6/dist-packages/tensorflow/python/eager/execute.py\u001b[0m in \u001b[0;36mquick_execute\u001b[0;34m(op_name, num_outputs, inputs, attrs, ctx, name)\u001b[0m\n\u001b[1;32m     58\u001b[0m     \u001b[0mctx\u001b[0m\u001b[0;34m.\u001b[0m\u001b[0mensure_initialized\u001b[0m\u001b[0;34m(\u001b[0m\u001b[0;34m)\u001b[0m\u001b[0;34m\u001b[0m\u001b[0;34m\u001b[0m\u001b[0m\n\u001b[1;32m     59\u001b[0m     tensors = pywrap_tfe.TFE_Py_Execute(ctx._handle, device_name, op_name,\n\u001b[0;32m---> 60\u001b[0;31m                                         inputs, attrs, num_outputs)\n\u001b[0m\u001b[1;32m     61\u001b[0m   \u001b[0;32mexcept\u001b[0m \u001b[0mcore\u001b[0m\u001b[0;34m.\u001b[0m\u001b[0m_NotOkStatusException\u001b[0m \u001b[0;32mas\u001b[0m \u001b[0me\u001b[0m\u001b[0;34m:\u001b[0m\u001b[0;34m\u001b[0m\u001b[0;34m\u001b[0m\u001b[0m\n\u001b[1;32m     62\u001b[0m     \u001b[0;32mif\u001b[0m \u001b[0mname\u001b[0m \u001b[0;32mis\u001b[0m \u001b[0;32mnot\u001b[0m \u001b[0;32mNone\u001b[0m\u001b[0;34m:\u001b[0m\u001b[0;34m\u001b[0m\u001b[0;34m\u001b[0m\u001b[0m\n",
            "\u001b[0;31mKeyboardInterrupt\u001b[0m: "
          ]
        }
      ]
    },
    {
      "cell_type": "code",
      "metadata": {
        "id": "ci7yh_hvjFUw"
      },
      "source": [
        "y_train.shape"
      ],
      "execution_count": null,
      "outputs": []
    },
    {
      "cell_type": "code",
      "metadata": {
        "id": "EqoLZKLgLmHg"
      },
      "source": [
        "model_my = BuildModel()"
      ],
      "execution_count": null,
      "outputs": []
    },
    {
      "cell_type": "code",
      "metadata": {
        "id": "hrebydgqLmmd"
      },
      "source": [
        "model_my.load_weights('checkpoints6/s-model-015-0.9010-0.00487.hdf5')"
      ],
      "execution_count": null,
      "outputs": []
    },
    {
      "cell_type": "code",
      "metadata": {
        "id": "E3FGpmPrLmtC"
      },
      "source": [
        "model_my.save('segmentation_model.hdf5')"
      ],
      "execution_count": null,
      "outputs": []
    },
    {
      "cell_type": "code",
      "metadata": {
        "id": "pInYhcdwO4Rg",
        "colab": {
          "base_uri": "https://localhost:8080/"
        },
        "outputId": "f8794e16-6cde-4098-c4bd-9b1ceb21ddb3"
      },
      "source": [
        "model = load_model('segmentation_model.hdf5')"
      ],
      "execution_count": null,
      "outputs": [
        {
          "output_type": "stream",
          "text": [
            "WARNING:tensorflow:No training configuration found in the save file, so the model was *not* compiled. Compile it manually.\n"
          ],
          "name": "stdout"
        }
      ]
    },
    {
      "cell_type": "code",
      "metadata": {
        "id": "CR1wjtXyMf1k"
      },
      "source": [
        "!python run.py 'tests' "
      ],
      "execution_count": null,
      "outputs": []
    },
    {
      "cell_type": "code",
      "metadata": {
        "id": "Fy1u_b3d6kTT"
      },
      "source": [
        "val_size = len(image_res) - int(len(image_res) * 0.9)\n",
        "validation_data=(preprocess_input(image_res[val_size:].astype(np.float32) / 255), gt_res[val_size:].astype(np.float32) / 255)"
      ],
      "execution_count": null,
      "outputs": []
    },
    {
      "cell_type": "code",
      "metadata": {
        "id": "J0mHWoU0ubZx"
      },
      "source": [
        "!pip install --force-reinstall tensorflow_gpu=2.3.0"
      ],
      "execution_count": null,
      "outputs": []
    },
    {
      "cell_type": "code",
      "metadata": {
        "id": "sGImG04r2jk3"
      },
      "source": [
        "!python3 -c 'import tensorflow as tf; print(tf.__version__)'"
      ],
      "execution_count": null,
      "outputs": []
    },
    {
      "cell_type": "code",
      "metadata": {
        "id": "kHSnfc9F3AiH"
      },
      "source": [
        "IMAGESIZE = 288\n",
        "\n",
        "def GenerateFileNames(data_dir):\n",
        "    images = []\n",
        "    gt = []\n",
        "    for image_dir in tqdm(os.listdir(os.path.join(data_dir, 'images'))):\n",
        "        images_name = os.listdir(join(data_dir, 'images', image_dir))\n",
        "        for im_name in images_name:\n",
        "            images.append(join(data_dir, 'images', image_dir, im_name))\n",
        "            gt.append(join(data_dir, 'gt', image_dir, im_name[:-4]+'.png'))\n",
        "    return images, gt\n",
        "\n",
        "def Upscale(image):\n",
        "    return cv2.resize(image, (IMAGESIZE, IMAGESIZE),\n",
        "                      interpolation=cv2.INTER_CUBIC)\n",
        "\n",
        "def ReadAndResizeImage(image_path):\n",
        "    image = cv2.imread(image_path)\n",
        "    if len(image.shape) == 2 or image.shape[2] == 1:\n",
        "        image = np.stack((image, image, image), axis=-1)\n",
        "    img = Upscale(image)\n",
        "    return img\n",
        "\n",
        "def ReadAndResizeImageGT(image_path):\n",
        "    image = cv2.imread(image_path)\n",
        "    if len(image.shape) == 3:\n",
        "    \timage = image[..., 0]\n",
        "    img = Upscale(image)\n",
        "    return img\n",
        "\n",
        "def GenerateReaderTrain(path_data):\n",
        "    images, gt = GenerateFileNames(path_data)\n",
        "    batch_cap = 4\n",
        "    size_batch = 0\n",
        "    X = np.zeros((batch_cap, IMAGESIZE, IMAGESIZE, 3), dtype=np.float32)\n",
        "    y = np.zeros((batch_cap, IMAGESIZE, IMAGESIZE, 2), dtype=np.float32)\n",
        "    for ind, file in tqdm(enumerate(images), desc='Reading images'):\n",
        "        x_one, y_one = ReadAndResizeImage(file), ReadAndResizeImageGT(gt[ind])\n",
        "        X[size_batch] = x_one\n",
        "        y[size_batch] = np.stack((y_one, 1 - y_one), axis=-1)\n",
        "        size_batch += 1 \n",
        "        if size_batch == batch_cap:\n",
        "            yield preprocess_input(X), y\n",
        "            size_batch = 0\n",
        "\n",
        "def train_segmentation_model(path_data):\n",
        "    model = BuildModel()\n",
        "    opt = AdamP(learning_rate=0.0001, beta_1=0.9, beta_2=0.999, weight_decay=1e-4)\n",
        "    model.compile(optimizer=opt, loss=focal_loss)\n",
        "    dataset_train = Dataset.from_generator(GenerateReaderTrain, \n",
        "                                       ('float32', 'float32'), \n",
        "                                       (tf.TensorShape([batch_cap, IMAGESIZE, IMAGESIZE, 3]), \n",
        "                                        tf.TensorShape([batch_cap, IMAGESIZE, IMAGESIZE, 2])), \n",
        "                                       args=[path_data])\n",
        "    model.fit(dataset_train, steps_per_epoch=5, epochs=1)\n",
        "    return model\n",
        "\n",
        "def predict(model, filename):\n",
        "    image = cv2.imread(filename)\n",
        "    size = image.shape[:2]\n",
        "    if len(image.shape) == 2 or image.shape[2] == 1:\n",
        "        image = np.stack((image, image, image), axis=-1)\n",
        "    x = np.zeros((1, IMAGESIZE, IMAGESIZE, 3))\n",
        "    x[0] = Upscale(image)\n",
        "    y_pred = model.predict(x)[0, ..., 1]    \n",
        "    y_pred = cv2.resize(y_pred, (size[1], size[0]), interpolation=cv2.INTER_CUBIC)\n",
        "    return y_pred"
      ],
      "execution_count": null,
      "outputs": []
    },
    {
      "cell_type": "code",
      "metadata": {
        "id": "Seetuo81PF5B"
      },
      "source": [
        "path = 'tests/00_test_val_input/test/images/001.Black_footed_Albatross/Black_Footed_Albatross_0001_796111.jpg'\n",
        "y_pred = predict(model_my, path)"
      ],
      "execution_count": null,
      "outputs": []
    },
    {
      "cell_type": "code",
      "metadata": {
        "id": "4u1zHhmMPlT_",
        "colab": {
          "base_uri": "https://localhost:8080/"
        },
        "outputId": "9c44ebf6-223e-4407-971d-c0bb2afc9361"
      },
      "source": [
        "!ls 'tests/00_test_val_input/test/images/001.Black_footed_Albatross/Black_Footed_Albatross_0001_796111.jpg'"
      ],
      "execution_count": null,
      "outputs": [
        {
          "output_type": "stream",
          "text": [
            "tests/00_test_val_input/test/images/001.Black_footed_Albatross/Black_Footed_Albatross_0001_796111.jpg\n"
          ],
          "name": "stdout"
        }
      ]
    },
    {
      "cell_type": "code",
      "metadata": {
        "id": "m0E8X8oEP_HC",
        "colab": {
          "base_uri": "https://localhost:8080/",
          "height": 286
        },
        "outputId": "71014e7c-6c41-4873-9fd9-df439a3c0ec7"
      },
      "source": [
        "plt.imshow(y_pred)"
      ],
      "execution_count": null,
      "outputs": [
        {
          "output_type": "execute_result",
          "data": {
            "text/plain": [
              "<matplotlib.image.AxesImage at 0x7fbd6c169208>"
            ]
          },
          "metadata": {
            "tags": []
          },
          "execution_count": 15
        },
        {
          "output_type": "display_data",
          "data": {
            "image/png": "[encoded data removed]",
            "text/plain": [
              "<Figure size 432x288 with 1 Axes>"
            ]
          },
          "metadata": {
            "tags": [],
            "needs_background": "light"
          }
        }
      ]
    },
    {
      "cell_type": "code",
      "metadata": {
        "id": "WgWhXPmCQL1j"
      },
      "source": [
        "y_pred = model_my.predict(X_train[:1])"
      ],
      "execution_count": null,
      "outputs": []
    },
    {
      "cell_type": "code",
      "metadata": {
        "id": "Td42VYLmQtV_",
        "colab": {
          "base_uri": "https://localhost:8080/",
          "height": 286
        },
        "outputId": "58728ac3-eacb-4a14-aa5e-0b3b699d9263"
      },
      "source": [
        "plt.imshow(y_pred[0, ..., 0] > 0.5, 'gray')"
      ],
      "execution_count": null,
      "outputs": [
        {
          "output_type": "execute_result",
          "data": {
            "text/plain": [
              "<matplotlib.image.AxesImage at 0x7f4102448cf8>"
            ]
          },
          "metadata": {
            "tags": []
          },
          "execution_count": 28
        },
        {
          "output_type": "display_data",
          "data": {
            "image/png": "[encoded data removed]",
            "text/plain": [
              "<Figure size 432x288 with 1 Axes>"
            ]
          },
          "metadata": {
            "tags": [],
            "needs_background": "light"
          }
        }
      ]
    },
    {
      "cell_type": "code",
      "metadata": {
        "id": "BcJ4vOyTQ2Bt",
        "colab": {
          "base_uri": "https://localhost:8080/",
          "height": 286
        },
        "outputId": "290972cf-431a-4f0d-c5b9-2d0eefadf383"
      },
      "source": [
        "plt.imshow(y_train[0])"
      ],
      "execution_count": null,
      "outputs": [
        {
          "output_type": "execute_result",
          "data": {
            "text/plain": [
              "<matplotlib.image.AxesImage at 0x7f410989c048>"
            ]
          },
          "metadata": {
            "tags": []
          },
          "execution_count": 23
        },
        {
          "output_type": "display_data",
          "data": {
            "image/png": "[encoded data removed]",
            "text/plain": [
              "<Figure size 432x288 with 1 Axes>"
            ]
          },
          "metadata": {
            "tags": [],
            "needs_background": "light"
          }
        }
      ]
    },
    {
      "cell_type": "code",
      "metadata": {
        "id": "kDOH4eM85b8C"
      },
      "source": [
        ""
      ],
      "execution_count": null,
      "outputs": []
    },
    {
      "cell_type": "code",
      "metadata": {
        "id": "eAZeJTa2Q-1r",
        "colab": {
          "base_uri": "https://localhost:8080/"
        },
        "outputId": "f452db72-804a-46be-e3df-369cbdfb69c0"
      },
      "source": [
        "IoU_score(np.stack((y_train[0], 1 - y_train[0]), axis=-1), y_pred[0])"
      ],
      "execution_count": null,
      "outputs": [
        {
          "output_type": "execute_result",
          "data": {
            "text/plain": [
              "<tf.Tensor: shape=(), dtype=float32, numpy=0.9654345>"
            ]
          },
          "metadata": {
            "tags": []
          },
          "execution_count": 25
        }
      ]
    },
    {
      "cell_type": "code",
      "metadata": {
        "id": "TpMZmjBLRP8x",
        "colab": {
          "base_uri": "https://localhost:8080/"
        },
        "outputId": "fa09cae5-319a-4cf3-81c3-4307201ec44b"
      },
      "source": [
        "np.stack((y_train[0], 1 - y_train[0]), axis=-1).shape"
      ],
      "execution_count": null,
      "outputs": [
        {
          "output_type": "execute_result",
          "data": {
            "text/plain": [
              "(288, 288, 2)"
            ]
          },
          "metadata": {
            "tags": []
          },
          "execution_count": 47
        }
      ]
    },
    {
      "cell_type": "code",
      "metadata": {
        "id": "swBAcpgISXdL",
        "colab": {
          "base_uri": "https://localhost:8080/"
        },
        "outputId": "041a97e6-944f-4000-9fab-ea590916a943"
      },
      "source": [
        "y_pred[0].shape"
      ],
      "execution_count": null,
      "outputs": [
        {
          "output_type": "execute_result",
          "data": {
            "text/plain": [
              "(288, 288, 2)"
            ]
          },
          "metadata": {
            "tags": []
          },
          "execution_count": 52
        }
      ]
    },
    {
      "cell_type": "code",
      "metadata": {
        "id": "jn7j6xKjStgE"
      },
      "source": [
        ""
      ],
      "execution_count": null,
      "outputs": []
    }
  ]
}