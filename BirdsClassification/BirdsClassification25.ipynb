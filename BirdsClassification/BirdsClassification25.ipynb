{
  "nbformat": 4,
  "nbformat_minor": 0,
  "metadata": {
    "colab": {
      "name": "BirdsClassification25",
      "provenance": [],
      "collapsed_sections": [],
      "machine_shape": "hm"
    },
    "kernelspec": {
      "name": "python3",
      "display_name": "Python 3"
    },
    "accelerator": "GPU"
  },
  "cells": [
    {
      "cell_type": "code",
      "metadata": {
        "id": "Nl-HDIwEoDhz",
        "colab": {
          "base_uri": "https://localhost:8080/"
        },
        "outputId": "f302f084-33c0-43b0-b996-e3ee2c6aeb01"
      },
      "source": [
        "from google.colab import drive\n",
        "drive.mount('/content/drive')"
      ],
      "execution_count": null,
      "outputs": [
        {
          "output_type": "stream",
          "text": [
            "Drive already mounted at /content/drive; to attempt to forcibly remount, call drive.mount(\"/content/drive\", force_remount=True).\n"
          ],
          "name": "stdout"
        }
      ]
    },
    {
      "cell_type": "code",
      "metadata": {
        "id": "chKy7HMl3RnU",
        "colab": {
          "base_uri": "https://localhost:8080/"
        },
        "outputId": "ab4de7c4-4b8f-4af3-98c3-ea42e948ee56"
      },
      "source": [
        "%cd drive/My\\ Drive/3\\ cource/CV/Birds\\ Classification"
      ],
      "execution_count": null,
      "outputs": [
        {
          "output_type": "stream",
          "text": [
            "/content/drive/My Drive/3 cource/CV/Birds Classification\n"
          ],
          "name": "stdout"
        }
      ]
    },
    {
      "cell_type": "code",
      "metadata": {
        "id": "ryf9NLZ6JA-J"
      },
      "source": [
        "from tensorflow.keras.applications.efficientnet import EfficientNetB4\n",
        "from tensorflow.keras.applications.mobilenet_v2 import MobileNetV2\n",
        "from tensorflow.keras.applications.densenet import DenseNet201\n",
        "\n",
        "from tensorflow.keras.layers import GlobalAveragePooling2D, BatchNormalization, Dense, Activation, Dropout, Flatten, AveragePooling2D\n",
        "from tensorflow.keras.models import Model, load_model\n",
        "from tensorflow.keras.applications.xception import Xception\n",
        "\n",
        "from sklearn.model_selection import train_test_split\n",
        "from PIL import Image\n",
        "from tqdm import tqdm\n",
        "import matplotlib.pyplot as plt\n",
        "import albumentations as A\n",
        "import tensorflow as tf\n",
        "from tensorflow import keras\n",
        "\n",
        "import random\n",
        "import pandas as pd\n",
        "import os\n",
        "import numpy as np\n",
        "\n",
        "from skimage.io import imread\n",
        "from skimage.transform import resize, rotate\n",
        "from tensorflow.keras.applications.efficientnet import preprocess_input"
      ],
      "execution_count": null,
      "outputs": []
    },
    {
      "cell_type": "code",
      "metadata": {
        "id": "yEAbPKJTQSMs"
      },
      "source": [
        "IMAGESIZE = 380\n",
        "def ReadAndPrepareImages(image_dir, gt_dir):\n",
        "    df = pd.read_csv(gt_dir)\n",
        "    X = np.zeros((df.shape[0], IMAGESIZE, IMAGESIZE, 3), dtype=np.uint8)\n",
        "    y = np.zeros((df.shape[0], 50), dtype=np.uint8)\n",
        "    for ind, file in tqdm(enumerate(df['filename']), desc='Reading images'):\n",
        "        img = imread(os.path.join(image_dir, file))\n",
        "        img = resize(img, (IMAGESIZE, IMAGESIZE, 3))\n",
        "        X[ind] =  np.clip(img * 255, 0, 255).astype(np.uint8)\n",
        "        y[ind][df.iloc[ind].class_id] = 1\n",
        "    return X, y"
      ],
      "execution_count": null,
      "outputs": []
    },
    {
      "cell_type": "code",
      "metadata": {
        "id": "TtV5Teo2cPey"
      },
      "source": [
        "def focal_loss(y_true, y_pred, gamma=1):\n",
        "        y_pred = tf.keras.backend.clip(y_pred, keras.backend.epsilon(), 1 - keras.backend.epsilon())\n",
        "        return -keras.backend.sum((y_true * keras.backend.pow((1 - y_pred), gamma) *\n",
        "                              keras.backend.log(y_pred)), axis=1)\n",
        "\n",
        "def BuildModel():    \n",
        "    base_model = EfficientNetB4(weights='imagenet', include_top=False, input_shape=(IMAGESIZE, IMAGESIZE, 3))\n",
        "    x = base_model.output\n",
        "    x = GlobalAveragePooling2D()(x)\n",
        "\n",
        "    x = Dense(1024*4, kernel_initializer='he_normal')(x)\n",
        "    x = BatchNormalization(momentum=0.9)(x)\n",
        "    x = Activation('relu')(x)\n",
        "    x = Dropout(0.9)(x)\n",
        "\n",
        "    x = Dense(50, kernel_initializer='he_normal')(x)\n",
        "    x = BatchNormalization(momentum=0.9)(x)\n",
        "    x = Activation('softmax')(x)\n",
        "\n",
        "    last_trainable = 31\n",
        "    for layer in base_model.layers[0:-last_trainable]:\n",
        "        layer.trainable = False\n",
        "    for layer in base_model.layers[-last_trainable:]:\n",
        "        layer.trainable = True\n",
        "\n",
        "    model = Model(inputs=base_model.input, outputs=x)\n",
        "    return model    \n",
        "#model = BuildModel()"
      ],
      "execution_count": null,
      "outputs": []
    },
    {
      "cell_type": "code",
      "metadata": {
        "id": "43CBlgukVuy0",
        "colab": {
          "base_uri": "https://localhost:8080/"
        },
        "outputId": "f7b8a3aa-dd4e-4f04-e38a-ec2081d0a610"
      },
      "source": [
        "model = BuildModel()\n",
        "opt = AdamP(learning_rate=0.0001, beta_1=0.9, beta_2=0.999, weight_decay=1e-4)\n",
        "model.compile(optimizer=opt, loss=focal_loss, metrics=['accuracy'])"
      ],
      "execution_count": null,
      "outputs": [
        {
          "output_type": "stream",
          "text": [
            "Downloading data from https://storage.googleapis.com/keras-applications/efficientnetb5_notop.h5\n",
            "115269632/115263384 [==============================] - 1s 0us/step\n"
          ],
          "name": "stdout"
        }
      ]
    },
    {
      "cell_type": "code",
      "metadata": {
        "id": "H7TSwapyJ0V8"
      },
      "source": [
        "X = np.load('X.npy')\n",
        "y = np.load('y.npy')"
      ],
      "execution_count": null,
      "outputs": []
    },
    {
      "cell_type": "code",
      "metadata": {
        "id": "yStKcw0rmBud",
        "colab": {
          "base_uri": "https://localhost:8080/"
        },
        "outputId": "3b30399a-1399-49a0-a664-e7e29299bfb9"
      },
      "source": [
        "X[0].shape"
      ],
      "execution_count": null,
      "outputs": [
        {
          "output_type": "execute_result",
          "data": {
            "text/plain": [
              "(380, 380, 3)"
            ]
          },
          "metadata": {
            "tags": []
          },
          "execution_count": 32
        }
      ]
    },
    {
      "cell_type": "code",
      "metadata": {
        "id": "KuxJPPfhNdy_",
        "colab": {
          "base_uri": "https://localhost:8080/"
        },
        "outputId": "3c73e53d-1606-40b1-d1d7-180fbaf1e458"
      },
      "source": [
        "X, y = ReadAndPrepareImages('00_test_img_input/train/images/', '00_test_img_input/train/gt.csv')"
      ],
      "execution_count": null,
      "outputs": [
        {
          "output_type": "stream",
          "text": [
            "Reading images: 2500it [09:32,  4.37it/s]\n"
          ],
          "name": "stderr"
        }
      ]
    },
    {
      "cell_type": "code",
      "metadata": {
        "id": "71XyULvBh1IU"
      },
      "source": [
        "np.save('X-456.npy', X)\n",
        "np.save('y-456.npy', y)"
      ],
      "execution_count": null,
      "outputs": []
    },
    {
      "cell_type": "code",
      "metadata": {
        "id": "iZgJSkuQuvYZ"
      },
      "source": [
        "y_test = np.load('y_val-456.npy')"
      ],
      "execution_count": null,
      "outputs": []
    },
    {
      "cell_type": "code",
      "metadata": {
        "id": "brXrG_E8BuWy"
      },
      "source": [
        "X_val = np.load('X_val-456.npy')\n",
        "y_val = np.load('y_val-456.npy')"
      ],
      "execution_count": null,
      "outputs": []
    },
    {
      "cell_type": "code",
      "metadata": {
        "id": "2EiZ3d8Igj4u",
        "colab": {
          "base_uri": "https://localhost:8080/",
          "height": 286
        },
        "outputId": "61056612-0e51-4b90-aada-b073c1aaa709"
      },
      "source": [
        "plt.imshow(X_val[0])"
      ],
      "execution_count": null,
      "outputs": [
        {
          "output_type": "execute_result",
          "data": {
            "text/plain": [
              "<matplotlib.image.AxesImage at 0x7f7ad0a05d30>"
            ]
          },
          "metadata": {
            "tags": []
          },
          "execution_count": 38
        },
        {
          "output_type": "display_data",
          "data": {
            "image/png": "[encoded data removed]",
            "text/plain": [
              "<Figure size 432x288 with 1 Axes>"
            ]
          },
          "metadata": {
            "tags": [],
            "needs_background": "light"
          }
        }
      ]
    },
    {
      "cell_type": "code",
      "metadata": {
        "id": "4Yexim5fJ3Aq"
      },
      "source": [
        "X_train, X_test, y_train, y_test = train_test_split(X, y, test_size=0.20, random_state=47)"
      ],
      "execution_count": null,
      "outputs": []
    },
    {
      "cell_type": "code",
      "metadata": {
        "id": "yvLzIw9ZpomH",
        "colab": {
          "base_uri": "https://localhost:8080/"
        },
        "outputId": "59f350f4-8a06-423b-9e03-2353514c0a3b"
      },
      "source": [
        "y_train.argmax(axis=-1)"
      ],
      "execution_count": null,
      "outputs": [
        {
          "output_type": "execute_result",
          "data": {
            "text/plain": [
              "array([ 4, 33, 44, ..., 47, 38, 23])"
            ]
          },
          "metadata": {
            "tags": []
          },
          "execution_count": 35
        }
      ]
    },
    {
      "cell_type": "code",
      "metadata": {
        "id": "en3tnVIUJ6kq"
      },
      "source": [
        "transform = A.Compose([\n",
        "                    A.Flip(p=0.5),\n",
        "                    A.OneOf(\n",
        "                        [A.RandomRotate90(p=0.8),\n",
        "                        A.Transpose(p=0.8),\n",
        "                        A.ShiftScaleRotate(p=0.8),\n",
        "                        A.VerticalFlip()],\n",
        "                        p=0.5\n",
        "                    ),\n",
        "                    A.OneOf(\n",
        "                        [A.JpegCompression(p=0.8),\n",
        "                        A.GaussNoise(p=0.8),\n",
        "                        A.Blur(p=0.8)],\n",
        "                        p = 0.5\n",
        "                    ),\n",
        "                    A.OneOf([\n",
        "                        A.OpticalDistortion(p=0.8),\n",
        "                        A.GridDistortion(p=0.8),\n",
        "                        A.IAAPiecewiseAffine(p=0.8),],\n",
        "                        p=0.5),\n",
        "                    A.OneOf([\n",
        "                        A.RGBShift(p=0.8),\n",
        "                        A.RandomContrast(),\n",
        "                        A.RandomGamma(),\n",
        "                        A.RandomBrightness()\n",
        "                    ], p=0.5),\n",
        "                    A.RandomBrightnessContrast(p=0.5),            \n",
        "                ])\n",
        "def Transform(image):\n",
        "    return transform(image=image)['image']"
      ],
      "execution_count": null,
      "outputs": []
    },
    {
      "cell_type": "code",
      "metadata": {
        "id": "1U3PnD7JJ8Dr"
      },
      "source": [
        "def GeneratorData(X_train, y_train):\n",
        "    random.seed(17)\n",
        "    batch_cap = 50\n",
        "    image_batch = np.zeros((batch_cap, IMAGESIZE, IMAGESIZE, 3))\n",
        "    y_batch = np.zeros((batch_cap, 50))\n",
        "    size_batch = 0\n",
        "    while True:\n",
        "        random_state = random.randint(0, 10**9)\n",
        "        X, y = X_train, y_train#shuffle((np.copy(X_train), np.copy(y_train)), random_state=random_state)\n",
        "        idx = np.random.permutation(len(X))\n",
        "        X, y = X[idx], y[idx]\n",
        "        \n",
        "        for i in range(0, len(X)):\n",
        "            image_batch[size_batch] = Transform(X[i])\n",
        "            y_batch[size_batch] = y[i]\n",
        "            size_batch += 1\n",
        "            if size_batch == batch_cap:\n",
        "                yield preprocess_input(image_batch.astype(np.float32)), y_batch.astype(np.float32)\n",
        "                size_batch = 0\n",
        "\n",
        "def GeneratorDataTest(X_test, y_test):\n",
        "    random.seed(17)\n",
        "    batch_cap = 50\n",
        "    image_batch = np.zeros((batch_cap, IMAGESIZE, IMAGESIZE, 3))\n",
        "    y_batch = np.zeros((batch_cap, 50))\n",
        "    size_batch = 0\n",
        "    while True:\n",
        "        random_state = random.randint(0, 10**9)\n",
        "        X, y = X_test, y_test#shuffle((np.copy(X_train), np.copy(y_train)), random_state=random_state)\n",
        "        \n",
        "        for i in range(0, len(X)):\n",
        "            image_batch[size_batch] = X[i]\n",
        "            y_batch[size_batch] = y[i]\n",
        "            size_batch += 1\n",
        "            if size_batch == batch_cap:\n",
        "                yield  preprocess_input(image_batch.astype(np.float32)), y_batch.astype(np.float32)\n",
        "                size_batch = 0"
      ],
      "execution_count": null,
      "outputs": []
    },
    {
      "cell_type": "code",
      "metadata": {
        "id": "zx4hmfEMQPjh"
      },
      "source": [
        "\"\"\"AdamP for TensorFlow.\"\"\"\n",
        "from __future__ import absolute_import\n",
        "from __future__ import division\n",
        "from __future__ import print_function\n",
        "\n",
        "from tensorflow.python.framework import ops\n",
        "from tensorflow.python.keras import backend_config\n",
        "from tensorflow.python.keras.optimizer_v2 import optimizer_v2\n",
        "from tensorflow.python.ops import array_ops\n",
        "from tensorflow.python.ops import control_flow_ops\n",
        "from tensorflow.python.ops import math_ops\n",
        "from tensorflow.python.ops import state_ops\n",
        "\n",
        "\n",
        "class AdamP(optimizer_v2.OptimizerV2):\n",
        "    _HAS_AGGREGATE_GRAD = True\n",
        "\n",
        "    def __init__(self,\n",
        "                 learning_rate=0.001,\n",
        "                 beta_1=0.9,\n",
        "                 beta_2=0.999,\n",
        "                 epsilon=1e-8,\n",
        "                 weight_decay=0.0,\n",
        "                 delta=0.1, wd_ratio=0.1, nesterov=False,\n",
        "                 name='AdamP',\n",
        "                 **kwargs):\n",
        "\n",
        "        super(AdamP, self).__init__(name, **kwargs)\n",
        "        self._set_hyper('learning_rate', kwargs.get('lr', learning_rate))\n",
        "        self._set_hyper('beta_1', beta_1)\n",
        "        self._set_hyper('beta_2', beta_2)\n",
        "        self._set_hyper('delta', delta)\n",
        "        self._set_hyper('wd_ratio', wd_ratio)\n",
        "\n",
        "        self.epsilon = epsilon or backend_config.epsilon()\n",
        "        self.weight_decay = weight_decay\n",
        "        self.nesterov = nesterov\n",
        "\n",
        "    def _create_slots(self, var_list):\n",
        "        # Create slots for the first and second moments.\n",
        "        # Separate for-loops to respect the ordering of slot variables from v1.\n",
        "        for var in var_list:\n",
        "            self.add_slot(var, 'm')\n",
        "        for var in var_list:\n",
        "            self.add_slot(var, 'v')\n",
        "        for var in var_list:\n",
        "            self.add_slot(var, 'p')\n",
        "\n",
        "    def _prepare_local(self, var_device, var_dtype, apply_state):\n",
        "        super(AdamP, self)._prepare_local(var_device, var_dtype, apply_state)\n",
        "\n",
        "        local_step = math_ops.cast(self.iterations + 1, var_dtype)\n",
        "        beta_1_t = array_ops.identity(self._get_hyper('beta_1', var_dtype))\n",
        "        beta_2_t = array_ops.identity(self._get_hyper('beta_2', var_dtype))\n",
        "        beta_1_power = math_ops.pow(beta_1_t, local_step)\n",
        "        beta_2_power = math_ops.pow(beta_2_t, local_step)\n",
        "\n",
        "        lr = apply_state[(var_device, var_dtype)]['lr_t']\n",
        "        bias_correction1 = 1 - beta_1_power\n",
        "        bias_correction2 = 1 - beta_2_power\n",
        "\n",
        "        delta = array_ops.identity(self._get_hyper('delta', var_dtype))\n",
        "        wd_ratio = array_ops.identity(self._get_hyper('wd_ratio', var_dtype))\n",
        "\n",
        "        apply_state[(var_device, var_dtype)].update(\n",
        "            dict(\n",
        "                lr=lr,\n",
        "                epsilon=ops.convert_to_tensor_v2(self.epsilon, var_dtype),\n",
        "                weight_decay=ops.convert_to_tensor_v2(self.weight_decay, var_dtype),\n",
        "                beta_1_t=beta_1_t,\n",
        "                beta_1_power=beta_1_power,\n",
        "                one_minus_beta_1_t=1 - beta_1_t,\n",
        "                beta_2_t=beta_2_t,\n",
        "                beta_2_power=beta_2_power,\n",
        "                one_minus_beta_2_t=1 - beta_2_t,\n",
        "                bias_correction1=bias_correction1,\n",
        "                bias_correction2=bias_correction2,\n",
        "                delta=delta,\n",
        "                wd_ratio=wd_ratio))\n",
        "\n",
        "    def set_weights(self, weights):\n",
        "        params = self.weights\n",
        "        # If the weights are generated by Keras V1 optimizer, it includes vhats\n",
        "        # optimizer has 2x + 1 variables. Filter vhats out for compatibility.\n",
        "        num_vars = int((len(params) - 1) / 2)\n",
        "        if len(weights) == 3 * num_vars + 1:\n",
        "            weights = weights[:len(params)]\n",
        "        super(AdamP, self).set_weights(weights)\n",
        "\n",
        "    def _resource_apply_dense(self, grad, var, apply_state=None):\n",
        "        var_device, var_dtype = var.device, var.dtype.base_dtype\n",
        "        coefficients = ((apply_state or {}).get((var_device, var_dtype))\n",
        "                        or self._fallback_apply_state(var_device, var_dtype))\n",
        "\n",
        "        # m_t = beta1 * m + (1 - beta1) * g_t\n",
        "        m = self.get_slot(var, 'm')\n",
        "        m_scaled_g_values = grad * coefficients['one_minus_beta_1_t']\n",
        "        m_t = state_ops.assign(m, m * coefficients['beta_1_t'] + m_scaled_g_values, use_locking=self._use_locking)\n",
        "\n",
        "        # v_t = beta2 * v + (1 - beta2) * (g_t * g_t)\n",
        "        v = self.get_slot(var, 'v')\n",
        "        v_scaled_g_values = (grad * grad) * coefficients['one_minus_beta_2_t']\n",
        "        v_t = state_ops.assign(v, v * coefficients['beta_2_t'] + v_scaled_g_values, use_locking=self._use_locking)\n",
        "\n",
        "        denorm = (math_ops.sqrt(v_t) / math_ops.sqrt(coefficients['bias_correction2'])) + coefficients['epsilon']\n",
        "        step_size = coefficients['lr'] / coefficients['bias_correction1']\n",
        "\n",
        "        if self.nesterov:\n",
        "            perturb = (coefficients['beta_1_t'] * m_t + coefficients['one_minus_beta_1_t'] * grad) / denorm\n",
        "        else:\n",
        "            perturb = m_t / denorm\n",
        "\n",
        "        # Projection\n",
        "        wd_ratio = 1\n",
        "        if len(var.shape) > 1:\n",
        "            perturb, wd_ratio = self._projection(var, grad, perturb, coefficients['delta'], coefficients['wd_ratio'], coefficients['epsilon'])\n",
        "\n",
        "        # Weight decay\n",
        "\n",
        "        if self.weight_decay > 0:\n",
        "            var = state_ops.assign(var, var * (1 - coefficients['lr'] * coefficients['weight_decay'] * wd_ratio), use_locking=self._use_locking)\n",
        "\n",
        "        var_update = state_ops.assign_sub(var, step_size * perturb, use_locking=self._use_locking)\n",
        "\n",
        "        return control_flow_ops.group(*[var_update, m_t, v_t])\n",
        "\n",
        "\n",
        "    def _resource_apply_sparse(self, grad, var, indices, apply_state=None):\n",
        "\n",
        "        var_device, var_dtype = var.device, var.dtype.base_dtype\n",
        "        coefficients = ((apply_state or {}).get((var_device, var_dtype))\n",
        "                        or self._fallback_apply_state(var_device, var_dtype))\n",
        "        \"\"\"\n",
        "        Adam\n",
        "        \"\"\"\n",
        "        # m_t = beta1 * m + (1 - beta1) * g_t\n",
        "        m = self.get_slot(var, 'm')\n",
        "        m_scaled_g_values = grad * coefficients['one_minus_beta_1_t']\n",
        "        m_t = state_ops.assign(m, m * coefficients['beta_1_t'],\n",
        "                               use_locking=self._use_locking)\n",
        "        with ops.control_dependencies([m_t]):\n",
        "            m_t = self._resource_scatter_add(m, indices, m_scaled_g_values)\n",
        "\n",
        "        # v_t = beta2 * v + (1 - beta2) * (g_t * g_t)\n",
        "        v = self.get_slot(var, 'v')\n",
        "        v_scaled_g_values = (grad * grad) * coefficients['one_minus_beta_2_t']\n",
        "        v_t = state_ops.assign(v, v * coefficients['beta_2_t'],\n",
        "                               use_locking=self._use_locking)\n",
        "        with ops.control_dependencies([v_t]):\n",
        "            v_t = self._resource_scatter_add(v, indices, v_scaled_g_values)\n",
        "\n",
        "        denorm = (math_ops.sqrt(v_t) / math_ops.sqrt(coefficients['bias_correction2'])) + coefficients['epsilon']\n",
        "        step_size = coefficients['lr'] / coefficients['bias_correction1']\n",
        "\n",
        "        if self.nesterov:\n",
        "            p_scaled_g_values = grad * coefficients['one_minus_beta_1_t']\n",
        "            perturb = m_t * coefficients['beta_1_t']\n",
        "            perturb = self._resource_scatter_add(perturb, indices, p_scaled_g_values) / denorm\n",
        "\n",
        "        else:\n",
        "            perturb = m_t / denorm\n",
        "\n",
        "        # Projection\n",
        "        wd_ratio = 1\n",
        "        if len(var.shape) > 1:\n",
        "            perturb, wd_ratio = self._projection(var, grad, perturb, coefficients['delta'], coefficients['wd_ratio'], coefficients['epsilon'])\n",
        "\n",
        "        # Weight decay\n",
        "        if self.weight_decay > 0:\n",
        "            var = state_ops.assign(var, var * (1 - coefficients['lr'] * coefficients['weight_decay'] * wd_ratio), use_locking=self._use_locking)\n",
        "\n",
        "        var_update = state_ops.assign_sub(var, step_size * perturb, use_locking=self._use_locking)\n",
        "\n",
        "        return control_flow_ops.group(*[var_update, m_t, v_t])\n",
        "\n",
        "    def _channel_view(self, x):\n",
        "        return array_ops.reshape(x, shape=[x.shape[0], -1])\n",
        "\n",
        "    def _layer_view(self, x):\n",
        "        return array_ops.reshape(x, shape=[1, -1])\n",
        "\n",
        "    def _cosine_similarity(self, x, y, eps, view_func):\n",
        "        x = view_func(x)\n",
        "        y = view_func(y)\n",
        "\n",
        "        x_norm = math_ops.euclidean_norm(x, axis=-1) + eps\n",
        "        y_norm = math_ops.euclidean_norm(y, axis=-1) + eps\n",
        "        dot = math_ops.reduce_sum(x * y, axis=-1)\n",
        "\n",
        "        return math_ops.abs(dot) / x_norm / y_norm\n",
        "\n",
        "    def _projection(self, var, grad, perturb, delta, wd_ratio, eps):\n",
        "        # channel_view\n",
        "        cosine_sim = self._cosine_similarity(grad, var, eps, self._channel_view)\n",
        "        cosine_max = math_ops.reduce_max(cosine_sim)\n",
        "        compare_val = delta / math_ops.sqrt(math_ops.cast(self._channel_view(var).shape[-1], dtype=delta.dtype))\n",
        "\n",
        "        perturb, wd = control_flow_ops.cond(pred=cosine_max < compare_val,\n",
        "                                            true_fn=lambda : self.channel_true_fn(var, perturb, wd_ratio, eps),\n",
        "                                            false_fn=lambda : self.channel_false_fn(var, grad, perturb, delta, wd_ratio, eps))\n",
        "\n",
        "        return perturb, wd\n",
        "\n",
        "    def channel_true_fn(self, var, perturb, wd_ratio, eps):\n",
        "        expand_size = [-1] + [1] * (len(var.shape) - 1)\n",
        "        var_n = var / (array_ops.reshape(math_ops.euclidean_norm(self._channel_view(var), axis=-1), shape=expand_size) + eps)\n",
        "        perturb -= var_n * array_ops.reshape(math_ops.reduce_sum(self._channel_view(var_n * perturb), axis=-1), shape=expand_size)\n",
        "        wd = wd_ratio\n",
        "\n",
        "        return perturb, wd\n",
        "\n",
        "    def channel_false_fn(self, var, grad, perturb, delta, wd_ratio, eps):\n",
        "        cosine_sim = self._cosine_similarity(grad, var, eps, self._layer_view)\n",
        "        cosine_max = math_ops.reduce_max(cosine_sim)\n",
        "        compare_val = delta / math_ops.sqrt(math_ops.cast(self._layer_view(var).shape[-1], dtype=delta.dtype))\n",
        "\n",
        "        perturb, wd = control_flow_ops.cond(cosine_max < compare_val,\n",
        "                                              true_fn=lambda : self.layer_true_fn(var, perturb, wd_ratio, eps),\n",
        "                                              false_fn=lambda : self.identity_fn(perturb))\n",
        "\n",
        "        return perturb, wd\n",
        "\n",
        "    def layer_true_fn(self, var, perturb, wd_ratio, eps):\n",
        "        expand_size = [-1] + [1] * (len(var.shape) - 1)\n",
        "        var_n = var / (array_ops.reshape(math_ops.euclidean_norm(self._layer_view(var), axis=-1), shape=expand_size) + eps)\n",
        "        perturb -= var_n * array_ops.reshape(math_ops.reduce_sum(self._layer_view(var_n * perturb), axis=-1), shape=expand_size)\n",
        "        wd = wd_ratio\n",
        "\n",
        "        return perturb, wd\n",
        "\n",
        "    def identity_fn(self, perturb):\n",
        "        wd = 1.0\n",
        "\n",
        "        return perturb, wd\n",
        "\n",
        "    def get_config(self):\n",
        "        config = super(AdamP, self).get_config()\n",
        "        config.update({\n",
        "            'learning_rate': self._serialize_hyperparameter('learning_rate'),\n",
        "            'beta_1': self._serialize_hyperparameter('beta_1'),\n",
        "            'beta_2': self._serialize_hyperparameter('beta_2'),\n",
        "            'delta': self._serialize_hyperparameter('delta'),\n",
        "            'wd_ratio': self._serialize_hyperparameter('wd_ratio'),\n",
        "            'epsilon': self.epsilon,\n",
        "            'weight_decay': self.weight_decay,\n",
        "            'nesterov': self.nesterov\n",
        "        })\n",
        "        return config\n",
        "\n",
        "\n",
        "from tensorflow.keras.applications.efficientnet import EfficientNetB4\n",
        "from tensorflow.keras.applications.mobilenet_v2 import MobileNetV2\n",
        "from tensorflow.keras.applications.densenet import DenseNet201\n",
        "\n",
        "from tensorflow.keras.layers import GlobalAveragePooling2D, BatchNormalization, Dense, Activation, Dropout, Flatten, AveragePooling2D\n",
        "from tensorflow.keras.models import Model, load_model\n",
        "from tensorflow.keras.applications.xception import Xception\n",
        "\n",
        "from sklearn.model_selection import train_test_split\n",
        "from PIL import Image\n",
        "from tqdm import tqdm\n",
        "import matplotlib.pyplot as plt\n",
        "import albumentations as A\n",
        "import tensorflow as tf\n",
        "from tensorflow import keras\n",
        "\n",
        "import random\n",
        "import pandas as pd\n",
        "import os\n",
        "import numpy as np\n",
        "\n",
        "from skimage.io import imread\n",
        "from skimage.transform import resize, rotate\n",
        "from tensorflow.keras.applications.efficientnet import preprocess_input\n",
        "\n",
        "\n",
        "IMAGESIZE = 380\n",
        "def ReadAndPrepareImages(image_dir, train_gt):\n",
        "    list_dir = os.listdir(image_dir)\n",
        "    X = np.zeros((len(list_dir), IMAGESIZE, IMAGESIZE, 3), dtype=np.uint8)\n",
        "    y = np.zeros((len(list_dir), 50), dtype=np.uint8)\n",
        "    \n",
        "    for ind, file in tqdm(enumerate(list_dir), desc='Reading images'):\n",
        "        img = imread(os.path.join(image_dir, file))\n",
        "        img = resize(img, (IMAGESIZE, IMAGESIZE, 3))\n",
        "        X[ind] =  np.clip(img * 255, 0, 255).astype(np.uint8)\n",
        "        y[ind][train_gt[file]] = 1\n",
        "    return X, y\n",
        "\n",
        "\n",
        "def ReadTest(image_dir):\n",
        "    list_dir = os.listdir(image_dir)\n",
        "    X = np.zeros((len(list_dir), IMAGESIZE, IMAGESIZE, 3), dtype=np.uint8)\n",
        "    for ind, file in tqdm(enumerate(list_dir), desc='Reading images'):\n",
        "        img = imread(os.path.join(image_dir, file))\n",
        "        img = resize(img, (IMAGESIZE, IMAGESIZE, 3))\n",
        "        X[ind] =  np.clip(img * 255, 0, 255).astype(np.uint8)\n",
        "    return X\n",
        "\n",
        "\n",
        "def focal_loss(y_true, y_pred, gamma=1):  \n",
        "    y_pred = tf.keras.backend.clip(y_pred, keras.backend.epsilon(), 1 - keras.backend.epsilon())\n",
        "    return -keras.backend.sum((y_true * keras.backend.pow((1 - y_pred), gamma) *\n",
        "                          keras.backend.log(y_pred)), axis=1)\n",
        "    \n",
        "\n",
        "\n",
        "\n",
        "def BuildModel():\n",
        "    base_model = EfficientNetB4(weights='imagenet', include_top=False, input_shape=(IMAGESIZE, IMAGESIZE, 3))\n",
        "    x = base_model.output\n",
        "    x = GlobalAveragePooling2D()(x)\n",
        "\n",
        "    x = Dense(1024*4, kernel_initializer='he_normal')(x)\n",
        "    x = BatchNormalization(momentum=0.9)(x)\n",
        "    x = Activation('relu')(x)\n",
        "    x = Dropout(0.9)(x)\n",
        "\n",
        "    x = Dense(50, kernel_initializer='he_normal')(x)\n",
        "    x = BatchNormalization(momentum=0.9)(x)\n",
        "    x = Activation('softmax')(x)\n",
        "\n",
        "    last_trainable = 31\n",
        "    for layer in base_model.layers[0:-last_trainable]:\n",
        "        layer.trainable = False\n",
        "    for layer in base_model.layers[-last_trainable:]:\n",
        "        layer.trainable = True\n",
        "   \n",
        "    model = Model(inputs=base_model.input, outputs=x)\n",
        "    return model    \n",
        "\n",
        "\n",
        "def GeneratorData(X_train, y_train):\n",
        "    random.seed(17)\n",
        "    batch_cap = 4\n",
        "    image_batch = np.zeros((batch_cap, IMAGESIZE, IMAGESIZE, 3))\n",
        "    y_batch = np.zeros((batch_cap, 50))\n",
        "    size_batch = 0\n",
        "    while True:\n",
        "        random_state = random.randint(0, 10**9)\n",
        "        X, y = X_train, y_train#shuffle((np.copy(X_train), np.copy(y_train)), random_state=random_state)\n",
        "        idx = np.random.permutation(len(X))\n",
        "        X, y = X[idx], y[idx]\n",
        "        \n",
        "        for i in range(0, len(X)):\n",
        "            image_batch[size_batch] = Transform(X[i])\n",
        "            y_batch[size_batch] = y[i]\n",
        "            size_batch += 1\n",
        "            if size_batch == batch_cap:\n",
        "                yield preprocess_input(image_batch.astype(np.float32)), y_batch.astype(np.float32)\n",
        "                size_batch = 0\n",
        "\n",
        "\n",
        "def GeneratorDataTest(X_test, y_test):\n",
        "    random.seed(17)\n",
        "    batch_cap = 50\n",
        "    image_batch = np.zeros((batch_cap, IMAGESIZE, IMAGESIZE, 3))\n",
        "    y_batch = np.zeros((batch_cap, 50))\n",
        "    size_batch = 0\n",
        "    while True:\n",
        "        random_state = random.randint(0, 10**9)\n",
        "        X, y = X_test, y_test#shuffle((np.copy(X_train), np.copy(y_train)), random_state=random_state)\n",
        "        \n",
        "        for i in range(0, len(X)):\n",
        "            image_batch[size_batch] = X[i]\n",
        "            y_batch[size_batch] = y[i]\n",
        "            size_batch += 1\n",
        "            if size_batch == batch_cap:\n",
        "                yield  preprocess_input(image_batch.astype(np.float32)), y_batch.astype(np.float32)\n",
        "                size_batch = 0\n",
        "\n",
        "\n",
        "transform = A.Compose([\n",
        "            A.Flip(p=0.5),\n",
        "            A.OneOf(\n",
        "                [A.RandomRotate90(p=0.8),\n",
        "                A.Transpose(p=0.8),\n",
        "                A.ShiftScaleRotate(p=0.8),\n",
        "                A.VerticalFlip()],\n",
        "                p=0.5\n",
        "            ),\n",
        "            A.OneOf(\n",
        "                [A.JpegCompression(p=0.8),\n",
        "                A.GaussNoise(p=0.8),\n",
        "                A.Blur(p=0.8)],\n",
        "                p = 0.5\n",
        "            ),\n",
        "            A.OneOf([\n",
        "                A.OpticalDistortion(p=0.8),\n",
        "                A.GridDistortion(p=0.8),\n",
        "                A.IAAPiecewiseAffine(p=0.8),],\n",
        "                p=0.5),\n",
        "            A.OneOf([\n",
        "                A.RGBShift(p=0.8),\n",
        "                A.RandomContrast(),\n",
        "                A.RandomGamma(),\n",
        "                A.RandomBrightness()\n",
        "            ], p=0.5),\n",
        "            A.RandomBrightnessContrast(p=0.5),            \n",
        "                ])\n",
        "def Transform(image):\n",
        "    return transform(image=image)['image']\n",
        "\n",
        "\n",
        "def train_classifier(train_gt, image_dir, fast_train=True):\n",
        "    # X_train, y_train = ReadAndPrepareImages(image_dir, train_gt)\n",
        "    model = BuildModel()\n",
        "    \n",
        "    opt = AdamP(learning_rate=0.0001, beta_1=0.9, beta_2=0.999, weight_decay=1e-4)\n",
        "    model.compile(optimizer=opt, loss=focal_loss, metrics=['accuracy'])\n",
        "    \n",
        "    if fast_train:\n",
        "        model.fit( GenerateReaderTrain(image_dir, train_gt), steps_per_epoch=1, epochs=1)\n",
        "    else:\n",
        "        model.fit( GenerateReaderTrain(image_dir, train_gt), steps_per_epoch=50, epochs=100)\n",
        "    return model\n",
        "\n",
        "\n",
        "def GenerateReaderTrain(image_dir, train_gt):\n",
        "    list_dir = os.listdir(image_dir)\n",
        "    batch_cap = 10\n",
        "    size_batch = 0\n",
        "    X = np.zeros((batch_cap, IMAGESIZE, IMAGESIZE, 3), dtype=np.uint8)\n",
        "    y = np.zeros((batch_cap, 50))\n",
        "    for ind, file in tqdm(enumerate(list_dir), desc='Reading images'):\n",
        "        img = imread(os.path.join(image_dir, file))\n",
        "        img = resize(img, (IMAGESIZE, IMAGESIZE, 3))\n",
        "        X[size_batch] =  np.clip(img * 255, 0, 255).astype(np.uint8)\n",
        "        y[size_batch] = train_gt[file]\n",
        "        size_batch += 1\n",
        "        if size_batch == batch_cap:\n",
        "            yield  preprocess_input(X.astype(np.float32)), y\n",
        "            size_batch = 0\n",
        "\n",
        "\n",
        "def GenerateReaderTest(image_dir):\n",
        "    list_dir = os.listdir(image_dir)\n",
        "    batch_cap = 10\n",
        "    size_batch = 0\n",
        "    X = np.zeros((batch_cap, IMAGESIZE, IMAGESIZE, 3), dtype=np.uint8)\n",
        "    for ind, file in tqdm(enumerate(list_dir), desc='Reading images'):\n",
        "        img = imread(os.path.join(image_dir, file))\n",
        "        img = resize(img, (IMAGESIZE, IMAGESIZE, 3))\n",
        "        X[size_batch] =  np.clip(img * 255, 0, 255).astype(np.uint8)\n",
        "        size_batch += 1\n",
        "        if size_batch == batch_cap:\n",
        "            yield  preprocess_input(X.astype(np.float32))\n",
        "            size_batch = 0\n",
        "\n",
        "\n",
        "def classify(model, test_image_dir):\n",
        "    list_dir = os.listdir(test_image_dir)\n",
        "    y_pred = model.predict(GenerateReaderTest(test_image_dir))\n",
        "    y = np.argmax(y_pred, axis=-1)\n",
        "    d = dict()\n",
        "    for ind, filename in enumerate(list_dir):\n",
        "        d[filename] = y[ind]\n",
        "    return d\n",
        "\n",
        "\n",
        "\n"
      ],
      "execution_count": null,
      "outputs": []
    },
    {
      "cell_type": "code",
      "metadata": {
        "id": "7JBT6LBxOx4r"
      },
      "source": [
        "model = train_classifier()"
      ],
      "execution_count": null,
      "outputs": []
    },
    {
      "cell_type": "code",
      "metadata": {
        "id": "th6rFWu34oBV"
      },
      "source": [
        "from tensorflow.keras.callbacks import ModelCheckpoint\n",
        "checkpoints = ModelCheckpoint('checkpoints380/MYmodel-effic1-{epoch:03d}-{val_accuracy:.4f}-{val_loss:.5f}.hdf5', \n",
        "                              monitor='val_loss', verbose=1, save_best_only=False, save_weights_only=True)"
      ],
      "execution_count": null,
      "outputs": []
    },
    {
      "cell_type": "code",
      "metadata": {
        "id": "SRcWaGnn5dIk",
        "colab": {
          "base_uri": "https://localhost:8080/",
          "height": 606
        },
        "outputId": "0fd39370-f745-4c89-ecb4-fe48864f2c6b"
      },
      "source": [
        "history = model.fit(GeneratorData(X_train, y_train), steps_per_epoch=50, epochs=200, validation_data=(preprocess_input(X_test.astype(np.float32)), y_test.astype(np.float32)), \n",
        "                    callbacks=checkpoints)\n"
      ],
      "execution_count": null,
      "outputs": [
        {
          "output_type": "stream",
          "text": [
            "Epoch 1/200\n",
            "50/50 [==============================] - ETA: 0s - loss: 2.4114 - accuracy: 0.4600\n",
            "Epoch 00001: saving model to checkpoints380/MYmodel-effic1-001-0.8820-0.51566.hdf5\n",
            "50/50 [==============================] - 14s 284ms/step - loss: 2.4114 - accuracy: 0.4600 - val_loss: 0.5157 - val_accuracy: 0.8820\n",
            "Epoch 2/200\n",
            "50/50 [==============================] - ETA: 0s - loss: 2.4623 - accuracy: 0.4350\n",
            "Epoch 00002: saving model to checkpoints380/MYmodel-effic1-002-0.8740-0.53526.hdf5\n",
            "50/50 [==============================] - 13s 261ms/step - loss: 2.4623 - accuracy: 0.4350 - val_loss: 0.5353 - val_accuracy: 0.8740\n",
            "Epoch 3/200\n",
            "50/50 [==============================] - ETA: 0s - loss: 2.4429 - accuracy: 0.4400\n",
            "Epoch 00003: saving model to checkpoints380/MYmodel-effic1-003-0.8780-0.54700.hdf5\n",
            "50/50 [==============================] - 12s 239ms/step - loss: 2.4429 - accuracy: 0.4400 - val_loss: 0.5470 - val_accuracy: 0.8780\n",
            "Epoch 4/200\n",
            "50/50 [==============================] - ETA: 0s - loss: 2.3911 - accuracy: 0.4750"
          ],
          "name": "stdout"
        },
        {
          "output_type": "error",
          "ename": "KeyboardInterrupt",
          "evalue": "ignored",
          "traceback": [
            "\u001b[0;31m---------------------------------------------------------------------------\u001b[0m",
            "\u001b[0;31mKeyboardInterrupt\u001b[0m                         Traceback (most recent call last)",
            "\u001b[0;32m<ipython-input-39-b55f368f39a2>\u001b[0m in \u001b[0;36m<module>\u001b[0;34m()\u001b[0m\n\u001b[1;32m      1\u001b[0m history = model.fit(GeneratorData(X_train, y_train), steps_per_epoch=50, epochs=200, validation_data=(preprocess_input(X_test.astype(np.float32)), y_test.astype(np.float32)), \n\u001b[0;32m----> 2\u001b[0;31m                     callbacks=checkpoints)\n\u001b[0m",
            "\u001b[0;32m/usr/local/lib/python3.6/dist-packages/tensorflow/python/keras/engine/training.py\u001b[0m in \u001b[0;36m_method_wrapper\u001b[0;34m(self, *args, **kwargs)\u001b[0m\n\u001b[1;32m    106\u001b[0m   \u001b[0;32mdef\u001b[0m \u001b[0m_method_wrapper\u001b[0m\u001b[0;34m(\u001b[0m\u001b[0mself\u001b[0m\u001b[0;34m,\u001b[0m \u001b[0;34m*\u001b[0m\u001b[0margs\u001b[0m\u001b[0;34m,\u001b[0m \u001b[0;34m**\u001b[0m\u001b[0mkwargs\u001b[0m\u001b[0;34m)\u001b[0m\u001b[0;34m:\u001b[0m\u001b[0;34m\u001b[0m\u001b[0;34m\u001b[0m\u001b[0m\n\u001b[1;32m    107\u001b[0m     \u001b[0;32mif\u001b[0m \u001b[0;32mnot\u001b[0m \u001b[0mself\u001b[0m\u001b[0;34m.\u001b[0m\u001b[0m_in_multi_worker_mode\u001b[0m\u001b[0;34m(\u001b[0m\u001b[0;34m)\u001b[0m\u001b[0;34m:\u001b[0m  \u001b[0;31m# pylint: disable=protected-access\u001b[0m\u001b[0;34m\u001b[0m\u001b[0;34m\u001b[0m\u001b[0m\n\u001b[0;32m--> 108\u001b[0;31m       \u001b[0;32mreturn\u001b[0m \u001b[0mmethod\u001b[0m\u001b[0;34m(\u001b[0m\u001b[0mself\u001b[0m\u001b[0;34m,\u001b[0m \u001b[0;34m*\u001b[0m\u001b[0margs\u001b[0m\u001b[0;34m,\u001b[0m \u001b[0;34m**\u001b[0m\u001b[0mkwargs\u001b[0m\u001b[0;34m)\u001b[0m\u001b[0;34m\u001b[0m\u001b[0;34m\u001b[0m\u001b[0m\n\u001b[0m\u001b[1;32m    109\u001b[0m \u001b[0;34m\u001b[0m\u001b[0m\n\u001b[1;32m    110\u001b[0m     \u001b[0;31m# Running inside `run_distribute_coordinator` already.\u001b[0m\u001b[0;34m\u001b[0m\u001b[0;34m\u001b[0m\u001b[0;34m\u001b[0m\u001b[0m\n",
            "\u001b[0;32m/usr/local/lib/python3.6/dist-packages/tensorflow/python/keras/engine/training.py\u001b[0m in \u001b[0;36mfit\u001b[0;34m(self, x, y, batch_size, epochs, verbose, callbacks, validation_split, validation_data, shuffle, class_weight, sample_weight, initial_epoch, steps_per_epoch, validation_steps, validation_batch_size, validation_freq, max_queue_size, workers, use_multiprocessing)\u001b[0m\n\u001b[1;32m   1131\u001b[0m               \u001b[0mworkers\u001b[0m\u001b[0;34m=\u001b[0m\u001b[0mworkers\u001b[0m\u001b[0;34m,\u001b[0m\u001b[0;34m\u001b[0m\u001b[0;34m\u001b[0m\u001b[0m\n\u001b[1;32m   1132\u001b[0m               \u001b[0muse_multiprocessing\u001b[0m\u001b[0;34m=\u001b[0m\u001b[0muse_multiprocessing\u001b[0m\u001b[0;34m,\u001b[0m\u001b[0;34m\u001b[0m\u001b[0;34m\u001b[0m\u001b[0m\n\u001b[0;32m-> 1133\u001b[0;31m               return_dict=True)\n\u001b[0m\u001b[1;32m   1134\u001b[0m           \u001b[0mval_logs\u001b[0m \u001b[0;34m=\u001b[0m \u001b[0;34m{\u001b[0m\u001b[0;34m'val_'\u001b[0m \u001b[0;34m+\u001b[0m \u001b[0mname\u001b[0m\u001b[0;34m:\u001b[0m \u001b[0mval\u001b[0m \u001b[0;32mfor\u001b[0m \u001b[0mname\u001b[0m\u001b[0;34m,\u001b[0m \u001b[0mval\u001b[0m \u001b[0;32min\u001b[0m \u001b[0mval_logs\u001b[0m\u001b[0;34m.\u001b[0m\u001b[0mitems\u001b[0m\u001b[0;34m(\u001b[0m\u001b[0;34m)\u001b[0m\u001b[0;34m}\u001b[0m\u001b[0;34m\u001b[0m\u001b[0;34m\u001b[0m\u001b[0m\n\u001b[1;32m   1135\u001b[0m           \u001b[0mepoch_logs\u001b[0m\u001b[0;34m.\u001b[0m\u001b[0mupdate\u001b[0m\u001b[0;34m(\u001b[0m\u001b[0mval_logs\u001b[0m\u001b[0;34m)\u001b[0m\u001b[0;34m\u001b[0m\u001b[0;34m\u001b[0m\u001b[0m\n",
            "\u001b[0;32m/usr/local/lib/python3.6/dist-packages/tensorflow/python/keras/engine/training.py\u001b[0m in \u001b[0;36m_method_wrapper\u001b[0;34m(self, *args, **kwargs)\u001b[0m\n\u001b[1;32m    106\u001b[0m   \u001b[0;32mdef\u001b[0m \u001b[0m_method_wrapper\u001b[0m\u001b[0;34m(\u001b[0m\u001b[0mself\u001b[0m\u001b[0;34m,\u001b[0m \u001b[0;34m*\u001b[0m\u001b[0margs\u001b[0m\u001b[0;34m,\u001b[0m \u001b[0;34m**\u001b[0m\u001b[0mkwargs\u001b[0m\u001b[0;34m)\u001b[0m\u001b[0;34m:\u001b[0m\u001b[0;34m\u001b[0m\u001b[0;34m\u001b[0m\u001b[0m\n\u001b[1;32m    107\u001b[0m     \u001b[0;32mif\u001b[0m \u001b[0;32mnot\u001b[0m \u001b[0mself\u001b[0m\u001b[0;34m.\u001b[0m\u001b[0m_in_multi_worker_mode\u001b[0m\u001b[0;34m(\u001b[0m\u001b[0;34m)\u001b[0m\u001b[0;34m:\u001b[0m  \u001b[0;31m# pylint: disable=protected-access\u001b[0m\u001b[0;34m\u001b[0m\u001b[0;34m\u001b[0m\u001b[0m\n\u001b[0;32m--> 108\u001b[0;31m       \u001b[0;32mreturn\u001b[0m \u001b[0mmethod\u001b[0m\u001b[0;34m(\u001b[0m\u001b[0mself\u001b[0m\u001b[0;34m,\u001b[0m \u001b[0;34m*\u001b[0m\u001b[0margs\u001b[0m\u001b[0;34m,\u001b[0m \u001b[0;34m**\u001b[0m\u001b[0mkwargs\u001b[0m\u001b[0;34m)\u001b[0m\u001b[0;34m\u001b[0m\u001b[0;34m\u001b[0m\u001b[0m\n\u001b[0m\u001b[1;32m    109\u001b[0m \u001b[0;34m\u001b[0m\u001b[0m\n\u001b[1;32m    110\u001b[0m     \u001b[0;31m# Running inside `run_distribute_coordinator` already.\u001b[0m\u001b[0;34m\u001b[0m\u001b[0;34m\u001b[0m\u001b[0;34m\u001b[0m\u001b[0m\n",
            "\u001b[0;32m/usr/local/lib/python3.6/dist-packages/tensorflow/python/keras/engine/training.py\u001b[0m in \u001b[0;36mevaluate\u001b[0;34m(self, x, y, batch_size, verbose, sample_weight, steps, callbacks, max_queue_size, workers, use_multiprocessing, return_dict)\u001b[0m\n\u001b[1;32m   1377\u001b[0m             \u001b[0;32mwith\u001b[0m \u001b[0mtrace\u001b[0m\u001b[0;34m.\u001b[0m\u001b[0mTrace\u001b[0m\u001b[0;34m(\u001b[0m\u001b[0;34m'TraceContext'\u001b[0m\u001b[0;34m,\u001b[0m \u001b[0mgraph_type\u001b[0m\u001b[0;34m=\u001b[0m\u001b[0;34m'test'\u001b[0m\u001b[0;34m,\u001b[0m \u001b[0mstep_num\u001b[0m\u001b[0;34m=\u001b[0m\u001b[0mstep\u001b[0m\u001b[0;34m)\u001b[0m\u001b[0;34m:\u001b[0m\u001b[0;34m\u001b[0m\u001b[0;34m\u001b[0m\u001b[0m\n\u001b[1;32m   1378\u001b[0m               \u001b[0mcallbacks\u001b[0m\u001b[0;34m.\u001b[0m\u001b[0mon_test_batch_begin\u001b[0m\u001b[0;34m(\u001b[0m\u001b[0mstep\u001b[0m\u001b[0;34m)\u001b[0m\u001b[0;34m\u001b[0m\u001b[0;34m\u001b[0m\u001b[0m\n\u001b[0;32m-> 1379\u001b[0;31m               \u001b[0mtmp_logs\u001b[0m \u001b[0;34m=\u001b[0m \u001b[0mtest_function\u001b[0m\u001b[0;34m(\u001b[0m\u001b[0miterator\u001b[0m\u001b[0;34m)\u001b[0m\u001b[0;34m\u001b[0m\u001b[0;34m\u001b[0m\u001b[0m\n\u001b[0m\u001b[1;32m   1380\u001b[0m               \u001b[0;32mif\u001b[0m \u001b[0mdata_handler\u001b[0m\u001b[0;34m.\u001b[0m\u001b[0mshould_sync\u001b[0m\u001b[0;34m:\u001b[0m\u001b[0;34m\u001b[0m\u001b[0;34m\u001b[0m\u001b[0m\n\u001b[1;32m   1381\u001b[0m                 \u001b[0mcontext\u001b[0m\u001b[0;34m.\u001b[0m\u001b[0masync_wait\u001b[0m\u001b[0;34m(\u001b[0m\u001b[0;34m)\u001b[0m\u001b[0;34m\u001b[0m\u001b[0;34m\u001b[0m\u001b[0m\n",
            "\u001b[0;32m/usr/local/lib/python3.6/dist-packages/tensorflow/python/eager/def_function.py\u001b[0m in \u001b[0;36m__call__\u001b[0;34m(self, *args, **kwds)\u001b[0m\n\u001b[1;32m    778\u001b[0m       \u001b[0;32melse\u001b[0m\u001b[0;34m:\u001b[0m\u001b[0;34m\u001b[0m\u001b[0;34m\u001b[0m\u001b[0m\n\u001b[1;32m    779\u001b[0m         \u001b[0mcompiler\u001b[0m \u001b[0;34m=\u001b[0m \u001b[0;34m\"nonXla\"\u001b[0m\u001b[0;34m\u001b[0m\u001b[0;34m\u001b[0m\u001b[0m\n\u001b[0;32m--> 780\u001b[0;31m         \u001b[0mresult\u001b[0m \u001b[0;34m=\u001b[0m \u001b[0mself\u001b[0m\u001b[0;34m.\u001b[0m\u001b[0m_call\u001b[0m\u001b[0;34m(\u001b[0m\u001b[0;34m*\u001b[0m\u001b[0margs\u001b[0m\u001b[0;34m,\u001b[0m \u001b[0;34m**\u001b[0m\u001b[0mkwds\u001b[0m\u001b[0;34m)\u001b[0m\u001b[0;34m\u001b[0m\u001b[0;34m\u001b[0m\u001b[0m\n\u001b[0m\u001b[1;32m    781\u001b[0m \u001b[0;34m\u001b[0m\u001b[0m\n\u001b[1;32m    782\u001b[0m       \u001b[0mnew_tracing_count\u001b[0m \u001b[0;34m=\u001b[0m \u001b[0mself\u001b[0m\u001b[0;34m.\u001b[0m\u001b[0m_get_tracing_count\u001b[0m\u001b[0;34m(\u001b[0m\u001b[0;34m)\u001b[0m\u001b[0;34m\u001b[0m\u001b[0;34m\u001b[0m\u001b[0m\n",
            "\u001b[0;32m/usr/local/lib/python3.6/dist-packages/tensorflow/python/eager/def_function.py\u001b[0m in \u001b[0;36m_call\u001b[0;34m(self, *args, **kwds)\u001b[0m\n\u001b[1;32m    812\u001b[0m       \u001b[0;31m# In this case we have not created variables on the first call. So we can\u001b[0m\u001b[0;34m\u001b[0m\u001b[0;34m\u001b[0m\u001b[0;34m\u001b[0m\u001b[0m\n\u001b[1;32m    813\u001b[0m       \u001b[0;31m# run the first trace but we should fail if variables are created.\u001b[0m\u001b[0;34m\u001b[0m\u001b[0;34m\u001b[0m\u001b[0;34m\u001b[0m\u001b[0m\n\u001b[0;32m--> 814\u001b[0;31m       \u001b[0mresults\u001b[0m \u001b[0;34m=\u001b[0m \u001b[0mself\u001b[0m\u001b[0;34m.\u001b[0m\u001b[0m_stateful_fn\u001b[0m\u001b[0;34m(\u001b[0m\u001b[0;34m*\u001b[0m\u001b[0margs\u001b[0m\u001b[0;34m,\u001b[0m \u001b[0;34m**\u001b[0m\u001b[0mkwds\u001b[0m\u001b[0;34m)\u001b[0m\u001b[0;34m\u001b[0m\u001b[0;34m\u001b[0m\u001b[0m\n\u001b[0m\u001b[1;32m    815\u001b[0m       \u001b[0;32mif\u001b[0m \u001b[0mself\u001b[0m\u001b[0;34m.\u001b[0m\u001b[0m_created_variables\u001b[0m\u001b[0;34m:\u001b[0m\u001b[0;34m\u001b[0m\u001b[0;34m\u001b[0m\u001b[0m\n\u001b[1;32m    816\u001b[0m         raise ValueError(\"Creating variables on a non-first call to a function\"\n",
            "\u001b[0;32m/usr/local/lib/python3.6/dist-packages/tensorflow/python/eager/function.py\u001b[0m in \u001b[0;36m__call__\u001b[0;34m(self, *args, **kwargs)\u001b[0m\n\u001b[1;32m   2827\u001b[0m     \u001b[0;32mwith\u001b[0m \u001b[0mself\u001b[0m\u001b[0;34m.\u001b[0m\u001b[0m_lock\u001b[0m\u001b[0;34m:\u001b[0m\u001b[0;34m\u001b[0m\u001b[0;34m\u001b[0m\u001b[0m\n\u001b[1;32m   2828\u001b[0m       \u001b[0mgraph_function\u001b[0m\u001b[0;34m,\u001b[0m \u001b[0margs\u001b[0m\u001b[0;34m,\u001b[0m \u001b[0mkwargs\u001b[0m \u001b[0;34m=\u001b[0m \u001b[0mself\u001b[0m\u001b[0;34m.\u001b[0m\u001b[0m_maybe_define_function\u001b[0m\u001b[0;34m(\u001b[0m\u001b[0margs\u001b[0m\u001b[0;34m,\u001b[0m \u001b[0mkwargs\u001b[0m\u001b[0;34m)\u001b[0m\u001b[0;34m\u001b[0m\u001b[0;34m\u001b[0m\u001b[0m\n\u001b[0;32m-> 2829\u001b[0;31m     \u001b[0;32mreturn\u001b[0m \u001b[0mgraph_function\u001b[0m\u001b[0;34m.\u001b[0m\u001b[0m_filtered_call\u001b[0m\u001b[0;34m(\u001b[0m\u001b[0margs\u001b[0m\u001b[0;34m,\u001b[0m \u001b[0mkwargs\u001b[0m\u001b[0;34m)\u001b[0m  \u001b[0;31m# pylint: disable=protected-access\u001b[0m\u001b[0;34m\u001b[0m\u001b[0;34m\u001b[0m\u001b[0m\n\u001b[0m\u001b[1;32m   2830\u001b[0m \u001b[0;34m\u001b[0m\u001b[0m\n\u001b[1;32m   2831\u001b[0m   \u001b[0;34m@\u001b[0m\u001b[0mproperty\u001b[0m\u001b[0;34m\u001b[0m\u001b[0;34m\u001b[0m\u001b[0m\n",
            "\u001b[0;32m/usr/local/lib/python3.6/dist-packages/tensorflow/python/eager/function.py\u001b[0m in \u001b[0;36m_filtered_call\u001b[0;34m(self, args, kwargs, cancellation_manager)\u001b[0m\n\u001b[1;32m   1846\u001b[0m                            resource_variable_ops.BaseResourceVariable))],\n\u001b[1;32m   1847\u001b[0m         \u001b[0mcaptured_inputs\u001b[0m\u001b[0;34m=\u001b[0m\u001b[0mself\u001b[0m\u001b[0;34m.\u001b[0m\u001b[0mcaptured_inputs\u001b[0m\u001b[0;34m,\u001b[0m\u001b[0;34m\u001b[0m\u001b[0;34m\u001b[0m\u001b[0m\n\u001b[0;32m-> 1848\u001b[0;31m         cancellation_manager=cancellation_manager)\n\u001b[0m\u001b[1;32m   1849\u001b[0m \u001b[0;34m\u001b[0m\u001b[0m\n\u001b[1;32m   1850\u001b[0m   \u001b[0;32mdef\u001b[0m \u001b[0m_call_flat\u001b[0m\u001b[0;34m(\u001b[0m\u001b[0mself\u001b[0m\u001b[0;34m,\u001b[0m \u001b[0margs\u001b[0m\u001b[0;34m,\u001b[0m \u001b[0mcaptured_inputs\u001b[0m\u001b[0;34m,\u001b[0m \u001b[0mcancellation_manager\u001b[0m\u001b[0;34m=\u001b[0m\u001b[0;32mNone\u001b[0m\u001b[0;34m)\u001b[0m\u001b[0;34m:\u001b[0m\u001b[0;34m\u001b[0m\u001b[0;34m\u001b[0m\u001b[0m\n",
            "\u001b[0;32m/usr/local/lib/python3.6/dist-packages/tensorflow/python/eager/function.py\u001b[0m in \u001b[0;36m_call_flat\u001b[0;34m(self, args, captured_inputs, cancellation_manager)\u001b[0m\n\u001b[1;32m   1922\u001b[0m       \u001b[0;31m# No tape is watching; skip to running the function.\u001b[0m\u001b[0;34m\u001b[0m\u001b[0;34m\u001b[0m\u001b[0;34m\u001b[0m\u001b[0m\n\u001b[1;32m   1923\u001b[0m       return self._build_call_outputs(self._inference_function.call(\n\u001b[0;32m-> 1924\u001b[0;31m           ctx, args, cancellation_manager=cancellation_manager))\n\u001b[0m\u001b[1;32m   1925\u001b[0m     forward_backward = self._select_forward_and_backward_functions(\n\u001b[1;32m   1926\u001b[0m         \u001b[0margs\u001b[0m\u001b[0;34m,\u001b[0m\u001b[0;34m\u001b[0m\u001b[0;34m\u001b[0m\u001b[0m\n",
            "\u001b[0;32m/usr/local/lib/python3.6/dist-packages/tensorflow/python/eager/function.py\u001b[0m in \u001b[0;36mcall\u001b[0;34m(self, ctx, args, cancellation_manager)\u001b[0m\n\u001b[1;32m    548\u001b[0m               \u001b[0minputs\u001b[0m\u001b[0;34m=\u001b[0m\u001b[0margs\u001b[0m\u001b[0;34m,\u001b[0m\u001b[0;34m\u001b[0m\u001b[0;34m\u001b[0m\u001b[0m\n\u001b[1;32m    549\u001b[0m               \u001b[0mattrs\u001b[0m\u001b[0;34m=\u001b[0m\u001b[0mattrs\u001b[0m\u001b[0;34m,\u001b[0m\u001b[0;34m\u001b[0m\u001b[0;34m\u001b[0m\u001b[0m\n\u001b[0;32m--> 550\u001b[0;31m               ctx=ctx)\n\u001b[0m\u001b[1;32m    551\u001b[0m         \u001b[0;32melse\u001b[0m\u001b[0;34m:\u001b[0m\u001b[0;34m\u001b[0m\u001b[0;34m\u001b[0m\u001b[0m\n\u001b[1;32m    552\u001b[0m           outputs = execute.execute_with_cancellation(\n",
            "\u001b[0;32m/usr/local/lib/python3.6/dist-packages/tensorflow/python/eager/execute.py\u001b[0m in \u001b[0;36mquick_execute\u001b[0;34m(op_name, num_outputs, inputs, attrs, ctx, name)\u001b[0m\n\u001b[1;32m     58\u001b[0m     \u001b[0mctx\u001b[0m\u001b[0;34m.\u001b[0m\u001b[0mensure_initialized\u001b[0m\u001b[0;34m(\u001b[0m\u001b[0;34m)\u001b[0m\u001b[0;34m\u001b[0m\u001b[0;34m\u001b[0m\u001b[0m\n\u001b[1;32m     59\u001b[0m     tensors = pywrap_tfe.TFE_Py_Execute(ctx._handle, device_name, op_name,\n\u001b[0;32m---> 60\u001b[0;31m                                         inputs, attrs, num_outputs)\n\u001b[0m\u001b[1;32m     61\u001b[0m   \u001b[0;32mexcept\u001b[0m \u001b[0mcore\u001b[0m\u001b[0;34m.\u001b[0m\u001b[0m_NotOkStatusException\u001b[0m \u001b[0;32mas\u001b[0m \u001b[0me\u001b[0m\u001b[0;34m:\u001b[0m\u001b[0;34m\u001b[0m\u001b[0;34m\u001b[0m\u001b[0m\n\u001b[1;32m     62\u001b[0m     \u001b[0;32mif\u001b[0m \u001b[0mname\u001b[0m \u001b[0;32mis\u001b[0m \u001b[0;32mnot\u001b[0m \u001b[0;32mNone\u001b[0m\u001b[0;34m:\u001b[0m\u001b[0;34m\u001b[0m\u001b[0;34m\u001b[0m\u001b[0m\n",
            "\u001b[0;31mKeyboardInterrupt\u001b[0m: "
          ]
        }
      ]
    },
    {
      "cell_type": "code",
      "metadata": {
        "id": "uJoVA4C3J-WP"
      },
      "source": [
        "model.fit(GeneratorData(X, y), steps_per_epoch=50, epochs=10, validation_data=(preprocess_input(X_val), y_val),\n",
        "                    callbacks=[tf.keras.callbacks.ModelCheckpoint(\"bestkaban-effic-fc-wf.hdf5\", mode=\"min\", monitor=\"val_loss\",\n",
        "                                                                  save_best_only=True, save_weights_only=False)])"
      ],
      "execution_count": null,
      "outputs": []
    },
    {
      "cell_type": "code",
      "metadata": {
        "id": "SDQ1SXJVJ_04"
      },
      "source": [
        "model.fit_generator(GeneratorData(X_train, y_train), steps_per_epoch=50, epochs=20000, validation_data=(X_test, y_test),\n",
        "                    callbacks=[tf.keras.callbacks.ModelCheckpoint(\"bestkaban-wf.hdf5\", mode=\"min\", monitor=\"val_loss\",\n",
        "                                                                  save_best_only=True, save_weights_only=False)])"
      ],
      "execution_count": null,
      "outputs": []
    },
    {
      "cell_type": "code",
      "metadata": {
        "id": "-mKUjgw6gorv"
      },
      "source": [
        "%matplotlib inline\n",
        "import matplotlib.pyplot as plt\n",
        "from skimage.io import imread\n",
        "from skimage.transform import resize, rotate\n",
        "import os\n",
        "from os.path import join\n",
        "from tensorflow import keras\n",
        "from keras.applications.resnet50 import ResNet50\n",
        "from keras.layers import Dense, GlobalAveragePooling2D, Input\n",
        "from keras.models import Model\n",
        "import numpy as np\n",
        "import pandas as pd\n",
        "from sklearn.model_selection import train_test_split\n",
        "from tqdm.notebook import tqdm\n",
        "import albumentations as A\n",
        "#from tensorflow_addons.optimizers import AdamP"
      ],
      "execution_count": null,
      "outputs": []
    },
    {
      "cell_type": "code",
      "metadata": {
        "id": "UzdrXVJLp_Gb"
      },
      "source": [
        "opt = AdamP(learning_rate=0.0001, beta_1=0.9, beta_2=0.999, weight_decay=1e-4)\n",
        "model.compile(optimizer=opt, loss=focal_loss, metrics=['accuracy'])"
      ],
      "execution_count": null,
      "outputs": []
    },
    {
      "cell_type": "code",
      "metadata": {
        "id": "Bz5HkLbhilSq",
        "colab": {
          "base_uri": "https://localhost:8080/",
          "height": 162
        },
        "outputId": "5070cd1f-78aa-463f-e786-1f7373e7cc67"
      },
      "source": [
        "model = BuildModel()"
      ],
      "execution_count": null,
      "outputs": [
        {
          "output_type": "error",
          "ename": "NameError",
          "evalue": "ignored",
          "traceback": [
            "\u001b[0;31m---------------------------------------------------------------------------\u001b[0m",
            "\u001b[0;31mNameError\u001b[0m                                 Traceback (most recent call last)",
            "\u001b[0;32m<ipython-input-3-6ede39fb399b>\u001b[0m in \u001b[0;36m<module>\u001b[0;34m()\u001b[0m\n\u001b[0;32m----> 1\u001b[0;31m \u001b[0mmodel\u001b[0m \u001b[0;34m=\u001b[0m \u001b[0mBuildModel\u001b[0m\u001b[0;34m(\u001b[0m\u001b[0;34m)\u001b[0m\u001b[0;34m\u001b[0m\u001b[0;34m\u001b[0m\u001b[0m\n\u001b[0m",
            "\u001b[0;31mNameError\u001b[0m: name 'BuildModel' is not defined"
          ]
        }
      ]
    },
    {
      "cell_type": "code",
      "metadata": {
        "id": "erWBPLzOitZO"
      },
      "source": [
        "model.load_weights('checkpoints380/MYmodel-effic1-103-0.8940-0.42952.hdf5')"
      ],
      "execution_count": null,
      "outputs": []
    },
    {
      "cell_type": "code",
      "metadata": {
        "id": "zqJVeCJ1jerk"
      },
      "source": [
        "model.save('MyBestModel.hdf5')"
      ],
      "execution_count": null,
      "outputs": []
    },
    {
      "cell_type": "code",
      "metadata": {
        "id": "hHl4Y3Ndrumc",
        "colab": {
          "base_uri": "https://localhost:8080/"
        },
        "outputId": "09e991f4-e5c7-48a1-9fce-eb94f35ffa7e"
      },
      "source": [
        "model = load_model('MyBestModel.hdf5')"
      ],
      "execution_count": null,
      "outputs": [
        {
          "output_type": "stream",
          "text": [
            "WARNING:tensorflow:No training configuration found in the save file, so the model was *not* compiled. Compile it manually.\n"
          ],
          "name": "stdout"
        }
      ]
    },
    {
      "cell_type": "code",
      "metadata": {
        "id": "KoEvBeTQkLh8"
      },
      "source": [
        "from classification import classify"
      ],
      "execution_count": null,
      "outputs": []
    },
    {
      "cell_type": "code",
      "metadata": {
        "id": "1FK0WNtrjuG0"
      },
      "source": [
        "d = model.predict(X)"
      ],
      "execution_count": null,
      "outputs": []
    },
    {
      "cell_type": "code",
      "metadata": {
        "id": "AUhZiB1PmkDQ",
        "colab": {
          "base_uri": "https://localhost:8080/"
        },
        "outputId": "68e59350-841e-40f5-cf98-39c506e98edd"
      },
      "source": [
        "model = load_model('MyBestModel.hdf5')"
      ],
      "execution_count": null,
      "outputs": [
        {
          "output_type": "stream",
          "text": [
            "WARNING:tensorflow:No training configuration found in the save file, so the model was *not* compiled. Compile it manually.\n"
          ],
          "name": "stdout"
        }
      ]
    },
    {
      "cell_type": "code",
      "metadata": {
        "id": "G-NQiGjQTick"
      },
      "source": [
        ""
      ],
      "execution_count": null,
      "outputs": []
    }
  ]
}